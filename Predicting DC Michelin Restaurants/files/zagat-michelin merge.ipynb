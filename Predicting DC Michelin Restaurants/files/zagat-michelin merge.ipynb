{
 "cells": [
  {
   "cell_type": "code",
   "execution_count": 108,
   "metadata": {
    "collapsed": true
   },
   "outputs": [],
   "source": [
    "import pandas as pd\n",
    "import unicodedata\n",
    "import numpy as np"
   ]
  },
  {
   "cell_type": "code",
   "execution_count": 109,
   "metadata": {
    "collapsed": false
   },
   "outputs": [],
   "source": [
    "# Reading in Zagat ratings data, saved from scraping as pickle files\n",
    "dc = pd.read_pickle('../dc.pkl') \n",
    "dc_prop = pd.read_pickle('../dc_prop.pkl') \n",
    "nyc = pd.read_pickle('../nyc.pkl') \n",
    "chicago = pd.read_pickle('../chicago.pkl') \n",
    "sf = pd.read_pickle('../sf.pkl') \n",
    "\n",
    "# read in Michelin star data\n",
    "michelin = pd.read_pickle('../michelin.pkl')\n",
    "\n",
    "# rename columns for easier merging\n",
    "michelin.columns = ['address', 'title', 'stars']"
   ]
  },
  {
   "cell_type": "code",
   "execution_count": 110,
   "metadata": {
    "collapsed": false
   },
   "outputs": [],
   "source": [
    "# create a list of all of the datasets\n",
    "datasets = [nyc, chicago, sf, dc, dc_prop, michelin]"
   ]
  },
  {
   "cell_type": "code",
   "execution_count": 111,
   "metadata": {
    "collapsed": false
   },
   "outputs": [
    {
     "name": "stdout",
     "output_type": "stream",
     "text": [
      "(2767, 13)\n",
      "(1376, 13)\n",
      "(2023, 13)\n",
      "(1196, 13)\n",
      "(690, 13)\n",
      "(145, 3)\n"
     ]
    }
   ],
   "source": [
    "for frame in datasets:\n",
    "    print frame.shape"
   ]
  },
  {
   "cell_type": "code",
   "execution_count": 64,
   "metadata": {
    "collapsed": false
   },
   "outputs": [
    {
     "data": {
      "text/html": [
       "<div>\n",
       "<table border=\"1\" class=\"dataframe\">\n",
       "  <thead>\n",
       "    <tr style=\"text-align: right;\">\n",
       "      <th></th>\n",
       "      <th>address</th>\n",
       "      <th>title</th>\n",
       "      <th>stars</th>\n",
       "    </tr>\n",
       "  </thead>\n",
       "  <tbody>\n",
       "    <tr>\n",
       "      <th>0</th>\n",
       "      <td>430 Hudson St., New York 10014</td>\n",
       "      <td>Piora</td>\n",
       "      <td>1</td>\n",
       "    </tr>\n",
       "  </tbody>\n",
       "</table>\n",
       "</div>"
      ],
      "text/plain": [
       "                          address  title  stars\n",
       "0  430 Hudson St., New York 10014  Piora      1"
      ]
     },
     "execution_count": 64,
     "metadata": {},
     "output_type": "execute_result"
    }
   ],
   "source": [
    "michelin.head(1)"
   ]
  },
  {
   "cell_type": "markdown",
   "metadata": {},
   "source": [
    "This next piece of syntax creates two functions that will be applied to restaurant names to make them easier to merge. One function is for text that needs to first be decoded into unicode, the other function is for text that is already unicode. The functions:\n",
    "- remove accents\n",
    "- put text in lowercase\n",
    "- removes the word 'restaurant'\n",
    "- remove '&' symbols (I found these didn't always match between datasets - Forest Inn Restaurant vs. Forest Inn & Restaurant\n",
    "- replaces double spaces with a single space\n",
    "- removes parentheses as (I found mismatches here too - dusek's (board beer) vs. dusek's board beer)\n",
    "- strips extra leading or trailing spaces\n",
    "\n",
    "I referenced this stackoverflow content in sorting out the accents: http://stackoverflow.com/questions/517923/what-is-the-best-way-to-remove-accents-in-a-python-unicode-string"
   ]
  },
  {
   "cell_type": "code",
   "execution_count": 112,
   "metadata": {
    "collapsed": false
   },
   "outputs": [],
   "source": [
    "#This version first converts to unicode:\n",
    "\n",
    "def uni_convert_remove_accents(input_str):\n",
    "    unicode_string = input_str.decode('utf-8')\n",
    "    nfkd_form = unicodedata.normalize('NFKD', unicode_string)\n",
    "    only_ascii = nfkd_form.encode('ASCII', 'ignore')\n",
    "    return only_ascii.lower().replace('restaurant','').replace('&amp;', '').replace('&','').replace('  ', ' ').replace('(','').replace(')','').replace('the ','').strip()\n",
    "\n",
    "#This version does not\n",
    "\n",
    "def remove_accents(input_str):\n",
    "    nfkd_form = unicodedata.normalize('NFKD', input_str)\n",
    "    only_ascii = nfkd_form.encode('ASCII', 'ignore')\n",
    "    return only_ascii.lower().replace('restaurant','').replace('&amp;', '').replace('&','').replace('  ', ' ').replace('(','').replace(')','').replace('the ','').strip()\n"
   ]
  },
  {
   "cell_type": "markdown",
   "metadata": {},
   "source": [
    "The next two steps apply the remove_accents function defined above to all of the datasets I'm working with. "
   ]
  },
  {
   "cell_type": "code",
   "execution_count": 113,
   "metadata": {
    "collapsed": false
   },
   "outputs": [],
   "source": [
    "# next redefine the 'title' column of each dataset as the output of the remove_accents function\n",
    "for frame in datasets:\n",
    "    frame['title'] = frame['title'].apply(remove_accents)"
   ]
  },
  {
   "cell_type": "code",
   "execution_count": 114,
   "metadata": {
    "collapsed": true
   },
   "outputs": [],
   "source": [
    "# I also found that several New York restaurants had mismatching titles between Michelin and Zagat, so correcting those:\n",
    "michelin.title = michelin.title.replace('ichimura', 'ichimura at brushstroke').replace('peter luger', 'peter luger steak house').replace('nomad','nomad hotel').replace('soto', 'soto japanese')"
   ]
  },
  {
   "cell_type": "code",
   "execution_count": 115,
   "metadata": {
    "collapsed": false
   },
   "outputs": [
    {
     "name": "stderr",
     "output_type": "stream",
     "text": [
      "C:\\Users\\elynchklarup\\AppData\\Local\\Continuum\\Anaconda2_take2\\lib\\site-packages\\ipykernel\\__main__.py:2: UserWarning: This pattern has match groups. To actually get the groups, use str.extract.\n",
      "  from ipykernel import kernelapp as app\n"
     ]
    },
    {
     "data": {
      "text/html": [
       "<div>\n",
       "<table border=\"1\" class=\"dataframe\">\n",
       "  <thead>\n",
       "    <tr style=\"text-align: right;\">\n",
       "      <th></th>\n",
       "      <th>address</th>\n",
       "      <th>title</th>\n",
       "      <th>stars</th>\n",
       "    </tr>\n",
       "  </thead>\n",
       "  <tbody>\n",
       "    <tr>\n",
       "      <th>131</th>\n",
       "      <td>30 Hudson St., New York 10013</td>\n",
       "      <td>ichimura at brushstroke</td>\n",
       "      <td>2</td>\n",
       "    </tr>\n",
       "  </tbody>\n",
       "</table>\n",
       "</div>"
      ],
      "text/plain": [
       "                           address                    title  stars\n",
       "131  30 Hudson St., New York 10013  ichimura at brushstroke      2"
      ]
     },
     "execution_count": 115,
     "metadata": {},
     "output_type": "execute_result"
    }
   ],
   "source": [
    "#testing...\n",
    "michelin[michelin.title.str.contains('(ichimura)')]"
   ]
  },
  {
   "cell_type": "code",
   "execution_count": 116,
   "metadata": {
    "collapsed": false
   },
   "outputs": [
    {
     "data": {
      "text/plain": [
       "0          daniel\n",
       "1          bouley\n",
       "2    le bernardin\n",
       "3          per se\n",
       "4        graffiti\n",
       "Name: title, dtype: object"
      ]
     },
     "execution_count": 116,
     "metadata": {},
     "output_type": "execute_result"
    }
   ],
   "source": [
    "#check it out:\n",
    "nyc.title.head(5)"
   ]
  },
  {
   "cell_type": "code",
   "execution_count": 117,
   "metadata": {
    "collapsed": false
   },
   "outputs": [
    {
     "data": {
      "text/plain": [
       "0                  piora\n",
       "1                   juni\n",
       "2              take root\n",
       "3    m. wells steakhouse\n",
       "4                  cagen\n",
       "Name: title, dtype: object"
      ]
     },
     "execution_count": 117,
     "metadata": {},
     "output_type": "execute_result"
    }
   ],
   "source": [
    "michelin.title.head()"
   ]
  },
  {
   "cell_type": "markdown",
   "metadata": {},
   "source": [
    "Now that my titles (restaurant names) are uniform across datasets, the next step is dividing the Michelin dataset by geography so that I can merge the Michelin data with my Zagat datasets. To do this, I'm filtering my aggregate Michelin dataset on zip code using regular expressions to create three sub-datasets:\n",
    "- San Francisco: sf_michelin\n",
    "- Chicago: chicago_michelin\n",
    "- New York City: nyc_michelin\n",
    "As shown here, the 'address' column of the Michelin dataset ends with each restaurant's zip code"
   ]
  },
  {
   "cell_type": "code",
   "execution_count": 118,
   "metadata": {
    "collapsed": false
   },
   "outputs": [
    {
     "data": {
      "text/html": [
       "<div>\n",
       "<table border=\"1\" class=\"dataframe\">\n",
       "  <thead>\n",
       "    <tr style=\"text-align: right;\">\n",
       "      <th></th>\n",
       "      <th>address</th>\n",
       "      <th>title</th>\n",
       "      <th>stars</th>\n",
       "    </tr>\n",
       "  </thead>\n",
       "  <tbody>\n",
       "    <tr>\n",
       "      <th>0</th>\n",
       "      <td>430 Hudson St., New York 10014</td>\n",
       "      <td>piora</td>\n",
       "      <td>1</td>\n",
       "    </tr>\n",
       "    <tr>\n",
       "      <th>1</th>\n",
       "      <td>12 E. 31st St., New York 10016</td>\n",
       "      <td>juni</td>\n",
       "      <td>1</td>\n",
       "    </tr>\n",
       "    <tr>\n",
       "      <th>2</th>\n",
       "      <td>187 Sackett St., Brooklyn 11231</td>\n",
       "      <td>take root</td>\n",
       "      <td>1</td>\n",
       "    </tr>\n",
       "    <tr>\n",
       "      <th>3</th>\n",
       "      <td>43-15 Crescent St., Long Island City 11101</td>\n",
       "      <td>m. wells steakhouse</td>\n",
       "      <td>1</td>\n",
       "    </tr>\n",
       "    <tr>\n",
       "      <th>4</th>\n",
       "      <td>414 E. 9th St., New York 10009</td>\n",
       "      <td>cagen</td>\n",
       "      <td>1</td>\n",
       "    </tr>\n",
       "  </tbody>\n",
       "</table>\n",
       "</div>"
      ],
      "text/plain": [
       "                                      address                title  stars\n",
       "0              430 Hudson St., New York 10014                piora      1\n",
       "1              12 E. 31st St., New York 10016                 juni      1\n",
       "2             187 Sackett St., Brooklyn 11231            take root      1\n",
       "3  43-15 Crescent St., Long Island City 11101  m. wells steakhouse      1\n",
       "4              414 E. 9th St., New York 10009                cagen      1"
      ]
     },
     "execution_count": 118,
     "metadata": {},
     "output_type": "execute_result"
    }
   ],
   "source": [
    "michelin.head()"
   ]
  },
  {
   "cell_type": "code",
   "execution_count": 119,
   "metadata": {
    "collapsed": false
   },
   "outputs": [
    {
     "name": "stderr",
     "output_type": "stream",
     "text": [
      "C:\\Users\\elynchklarup\\AppData\\Local\\Continuum\\Anaconda2_take2\\lib\\site-packages\\ipykernel\\__main__.py:2: UserWarning: This pattern has match groups. To actually get the groups, use str.extract.\n",
      "  from ipykernel import kernelapp as app\n"
     ]
    }
   ],
   "source": [
    "# CA zip codes start with 9\n",
    "sf_michelin = michelin[michelin['address'].str.contains('(9\\d\\d\\d\\d)$')]"
   ]
  },
  {
   "cell_type": "code",
   "execution_count": 120,
   "metadata": {
    "collapsed": false
   },
   "outputs": [
    {
     "name": "stderr",
     "output_type": "stream",
     "text": [
      "C:\\Users\\elynchklarup\\AppData\\Local\\Continuum\\Anaconda2_take2\\lib\\site-packages\\ipykernel\\__main__.py:2: UserWarning: This pattern has match groups. To actually get the groups, use str.extract.\n",
      "  from ipykernel import kernelapp as app\n"
     ]
    }
   ],
   "source": [
    "# Chicago zip codes start with 6\n",
    "chicago_michelin = michelin[michelin['address'].str.contains('(6\\d\\d\\d\\d)$')]"
   ]
  },
  {
   "cell_type": "code",
   "execution_count": 121,
   "metadata": {
    "collapsed": false
   },
   "outputs": [
    {
     "name": "stderr",
     "output_type": "stream",
     "text": [
      "C:\\Users\\elynchklarup\\AppData\\Local\\Continuum\\Anaconda2_take2\\lib\\site-packages\\ipykernel\\__main__.py:2: UserWarning: This pattern has match groups. To actually get the groups, use str.extract.\n",
      "  from ipykernel import kernelapp as app\n"
     ]
    }
   ],
   "source": [
    "# NYC zip codes start with 0 or 1\n",
    "nyc_michelin = michelin[michelin['address'].str.contains('((0|1)\\d\\d\\d\\d)$')]"
   ]
  },
  {
   "cell_type": "code",
   "execution_count": 122,
   "metadata": {
    "collapsed": false
   },
   "outputs": [
    {
     "name": "stdout",
     "output_type": "stream",
     "text": [
      "145\n",
      "145\n"
     ]
    }
   ],
   "source": [
    "# To check that each Michelin restaurant was pulled into one dataset, I'll check dataset lengths. They match, as they should:\n",
    "print len(nyc_michelin)+len(sf_michelin)+len(chicago_michelin)\n",
    "print len(michelin)"
   ]
  },
  {
   "cell_type": "markdown",
   "metadata": {},
   "source": [
    "My next step is merging the three city zagat datasets (sf, chicago, nyc) with my three Michelin datasets (sf_michelin, sf_chicago, sf_nyc). These will be merged on restaurant name (my title variable).\n",
    "\n",
    "Another option would have been to merge based on geography. I have latitude and longitude from Zagat, and address from Michelin. I could use a package like GeoPy to 'georeference' the Michelin addresses (that is, extract latitude and longitude) and merge on lat & long. I'm using restaurant names instead because if I want to merge in additional restaurant data, I'm more likely to have restaurant name than address or lat/long. "
   ]
  },
  {
   "cell_type": "code",
   "execution_count": 123,
   "metadata": {
    "collapsed": false
   },
   "outputs": [
    {
     "name": "stdout",
     "output_type": "stream",
     "text": [
      "(2023, 13)\n",
      "(49, 3)\n"
     ]
    }
   ],
   "source": [
    "# San Francisco merge - first checking the sizes of my datasets:\n",
    "print sf.shape\n",
    "print sf_michelin.shape"
   ]
  },
  {
   "cell_type": "code",
   "execution_count": 124,
   "metadata": {
    "collapsed": false
   },
   "outputs": [],
   "source": [
    "# Merge zagat and star information \n",
    "sf_zm = pd.merge(sf, sf_michelin, on = 'title', how = 'outer')"
   ]
  },
  {
   "cell_type": "code",
   "execution_count": 125,
   "metadata": {
    "collapsed": false
   },
   "outputs": [
    {
     "data": {
      "text/plain": [
       "(2029, 15)"
      ]
     },
     "execution_count": 125,
     "metadata": {},
     "output_type": "execute_result"
    }
   ],
   "source": [
    "# Now looking at the shape of the merged dataset. If all of my Michelin restaurants had already been included in my Zagat\n",
    "# dataset, the length of the dataset would be 2021 the same as the San Francisco zagat dataset. Since the length is 2026,\n",
    "# it looks like 5 Michelin starred restaurants weren't included in Zagat:\n",
    "sf_zm.shape"
   ]
  },
  {
   "cell_type": "code",
   "execution_count": 129,
   "metadata": {
    "collapsed": false
   },
   "outputs": [
    {
     "data": {
      "text/html": [
       "<div>\n",
       "<table border=\"1\" class=\"dataframe\">\n",
       "  <thead>\n",
       "    <tr style=\"text-align: right;\">\n",
       "      <th></th>\n",
       "      <th>title</th>\n",
       "      <th>address</th>\n",
       "      <th>stars</th>\n",
       "    </tr>\n",
       "  </thead>\n",
       "  <tbody>\n",
       "    <tr>\n",
       "      <th>2023</th>\n",
       "      <td>nico</td>\n",
       "      <td>3228 Sacramento St., San Francisco 94115</td>\n",
       "      <td>1.0</td>\n",
       "    </tr>\n",
       "    <tr>\n",
       "      <th>2024</th>\n",
       "      <td>wako</td>\n",
       "      <td>211 Clement St., San Francisco 94118</td>\n",
       "      <td>1.0</td>\n",
       "    </tr>\n",
       "    <tr>\n",
       "      <th>2025</th>\n",
       "      <td>aziza</td>\n",
       "      <td>5800 Geary Blvd., San Francisco 94121</td>\n",
       "      <td>1.0</td>\n",
       "    </tr>\n",
       "    <tr>\n",
       "      <th>2026</th>\n",
       "      <td>madrona manor</td>\n",
       "      <td>1001 Westside Rd., Healdsburg 95448</td>\n",
       "      <td>1.0</td>\n",
       "    </tr>\n",
       "    <tr>\n",
       "      <th>2027</th>\n",
       "      <td>sushi yoshizumi</td>\n",
       "      <td>325 E. 4th Ave., San Mateo 94401</td>\n",
       "      <td>1.0</td>\n",
       "    </tr>\n",
       "    <tr>\n",
       "      <th>2028</th>\n",
       "      <td>saison</td>\n",
       "      <td>178 Townsend St., San Francisco 94107</td>\n",
       "      <td>3.0</td>\n",
       "    </tr>\n",
       "  </tbody>\n",
       "</table>\n",
       "</div>"
      ],
      "text/plain": [
       "                title                                   address  stars\n",
       "2023             nico  3228 Sacramento St., San Francisco 94115    1.0\n",
       "2024             wako      211 Clement St., San Francisco 94118    1.0\n",
       "2025            aziza     5800 Geary Blvd., San Francisco 94121    1.0\n",
       "2026    madrona manor       1001 Westside Rd., Healdsburg 95448    1.0\n",
       "2027  sushi yoshizumi          325 E. 4th Ave., San Mateo 94401    1.0\n",
       "2028           saison     178 Townsend St., San Francisco 94107    3.0"
      ]
     },
     "execution_count": 129,
     "metadata": {},
     "output_type": "execute_result"
    }
   ],
   "source": [
    "# Let's look at these restaurants more closely:\n",
    "vars = ['title', 'address', 'stars']\n",
    "sf_zm[vars].tail(6)"
   ]
  },
  {
   "cell_type": "markdown",
   "metadata": {},
   "source": [
    "Some Zagat searching reveals that yes, unfortunately, these restaurants don't seem to be Zagat-rated. Too bad. If I pull in Yelp data, I might use Yelp ratings to help impute Zagat ratings for these guys.\n",
    "- Nico: no Zagat review\n",
    "- Wako: no Zagat review\n",
    "- Aziza: closed\n",
    "- Madrona Manor: no Zagat review\n",
    "- Sushi Yoshizumi: no Zagat review\n",
    "- Saison: no Zagat review\n",
    "\n",
    "Moving on - I'll repeat this merge for Chicago:"
   ]
  },
  {
   "cell_type": "code",
   "execution_count": 130,
   "metadata": {
    "collapsed": false
   },
   "outputs": [
    {
     "data": {
      "text/html": [
       "<div>\n",
       "<table border=\"1\" class=\"dataframe\">\n",
       "  <thead>\n",
       "    <tr style=\"text-align: right;\">\n",
       "      <th></th>\n",
       "      <th>addr_city</th>\n",
       "      <th>cost</th>\n",
       "      <th>cuisine</th>\n",
       "      <th>latitude</th>\n",
       "      <th>longitude</th>\n",
       "      <th>neighborhood</th>\n",
       "      <th>open_table</th>\n",
       "      <th>price_level</th>\n",
       "      <th>title</th>\n",
       "      <th>url</th>\n",
       "      <th>food</th>\n",
       "      <th>decor</th>\n",
       "      <th>service</th>\n",
       "      <th>address</th>\n",
       "      <th>stars</th>\n",
       "    </tr>\n",
       "  </thead>\n",
       "  <tbody>\n",
       "    <tr>\n",
       "      <th>2013</th>\n",
       "      <td>San Francisco</td>\n",
       "      <td>None</td>\n",
       "      <td>Sushi</td>\n",
       "      <td>37.7706528</td>\n",
       "      <td>-122.4027863</td>\n",
       "      <td>Potrero Hill</td>\n",
       "      <td>http://www.opentable.com/restaurant/profile/17...</td>\n",
       "      <td>VE</td>\n",
       "      <td>omakase</td>\n",
       "      <td>https://www.zagat.com/r/omakase-san-francisco</td>\n",
       "      <td>0.0</td>\n",
       "      <td>0.0</td>\n",
       "      <td>0.0</td>\n",
       "      <td>665 Townsend St., San Francisco 94103</td>\n",
       "      <td>1.0</td>\n",
       "    </tr>\n",
       "  </tbody>\n",
       "</table>\n",
       "</div>"
      ],
      "text/plain": [
       "          addr_city  cost cuisine    latitude     longitude  neighborhood  \\\n",
       "2013  San Francisco  None   Sushi  37.7706528  -122.4027863  Potrero Hill   \n",
       "\n",
       "                                             open_table price_level    title  \\\n",
       "2013  http://www.opentable.com/restaurant/profile/17...          VE  omakase   \n",
       "\n",
       "                                                url  food  decor  service  \\\n",
       "2013  https://www.zagat.com/r/omakase-san-francisco   0.0    0.0      0.0   \n",
       "\n",
       "                                    address  stars  \n",
       "2013  665 Townsend St., San Francisco 94103    1.0  "
      ]
     },
     "execution_count": 130,
     "metadata": {},
     "output_type": "execute_result"
    }
   ],
   "source": [
    "# And there is one restaurant without a Zagat rating\n",
    "sf_zm[(sf_zm.stars >0) & (sf_zm.food ==0)]"
   ]
  },
  {
   "cell_type": "code",
   "execution_count": 131,
   "metadata": {
    "collapsed": false
   },
   "outputs": [
    {
     "name": "stdout",
     "output_type": "stream",
     "text": [
      "(1376, 13)\n",
      "(21, 3)\n"
     ]
    }
   ],
   "source": [
    "# check dataframe size\n",
    "print chicago.shape\n",
    "print chicago_michelin.shape"
   ]
  },
  {
   "cell_type": "code",
   "execution_count": 132,
   "metadata": {
    "collapsed": true
   },
   "outputs": [],
   "source": [
    "# merge \n",
    "chicago_zm = pd.merge(chicago, chicago_michelin, on = 'title', how = 'outer')"
   ]
  },
  {
   "cell_type": "code",
   "execution_count": 133,
   "metadata": {
    "collapsed": false
   },
   "outputs": [
    {
     "name": "stdout",
     "output_type": "stream",
     "text": [
      "(1376, 15)\n"
     ]
    }
   ],
   "source": [
    "#perfect match - number of rows stays the same\n",
    "print chicago_zm.shape"
   ]
  },
  {
   "cell_type": "code",
   "execution_count": 134,
   "metadata": {
    "collapsed": false
   },
   "outputs": [
    {
     "data": {
      "text/html": [
       "<div>\n",
       "<table border=\"1\" class=\"dataframe\">\n",
       "  <thead>\n",
       "    <tr style=\"text-align: right;\">\n",
       "      <th></th>\n",
       "      <th>addr_city</th>\n",
       "      <th>cost</th>\n",
       "      <th>cuisine</th>\n",
       "      <th>latitude</th>\n",
       "      <th>longitude</th>\n",
       "      <th>neighborhood</th>\n",
       "      <th>open_table</th>\n",
       "      <th>price_level</th>\n",
       "      <th>title</th>\n",
       "      <th>url</th>\n",
       "      <th>food</th>\n",
       "      <th>decor</th>\n",
       "      <th>service</th>\n",
       "      <th>address</th>\n",
       "      <th>stars</th>\n",
       "    </tr>\n",
       "  </thead>\n",
       "  <tbody>\n",
       "    <tr>\n",
       "      <th>1024</th>\n",
       "      <td>Chicago</td>\n",
       "      <td>None</td>\n",
       "      <td>None</td>\n",
       "      <td>41.9134560</td>\n",
       "      <td>-87.6481628</td>\n",
       "      <td>Lincoln Park</td>\n",
       "      <td></td>\n",
       "      <td>VE</td>\n",
       "      <td>alinea</td>\n",
       "      <td>https://www.zagat.com/r/alinea-chicago</td>\n",
       "      <td>0.0</td>\n",
       "      <td>0.0</td>\n",
       "      <td>0.0</td>\n",
       "      <td>1723 N. Halsted St., Chicago 60614</td>\n",
       "      <td>3.0</td>\n",
       "    </tr>\n",
       "  </tbody>\n",
       "</table>\n",
       "</div>"
      ],
      "text/plain": [
       "     addr_city  cost cuisine    latitude    longitude  neighborhood  \\\n",
       "1024   Chicago  None    None  41.9134560  -87.6481628  Lincoln Park   \n",
       "\n",
       "     open_table price_level   title                                     url  \\\n",
       "1024                     VE  alinea  https://www.zagat.com/r/alinea-chicago   \n",
       "\n",
       "      food  decor  service                             address  stars  \n",
       "1024   0.0    0.0      0.0  1723 N. Halsted St., Chicago 60614    3.0  "
      ]
     },
     "execution_count": 134,
     "metadata": {},
     "output_type": "execute_result"
    }
   ],
   "source": [
    "# One restaurant with no Zagat rating -- prob need to omit, looks like this was recently overhauled\n",
    "chicago_zm[(chicago_zm.stars >0) & (chicago_zm.food ==0)]"
   ]
  },
  {
   "cell_type": "markdown",
   "metadata": {},
   "source": [
    "And NYC: "
   ]
  },
  {
   "cell_type": "code",
   "execution_count": 135,
   "metadata": {
    "collapsed": false
   },
   "outputs": [
    {
     "name": "stdout",
     "output_type": "stream",
     "text": [
      "(2767, 13)\n",
      "(75, 3)\n"
     ]
    }
   ],
   "source": [
    "# check dataframe size\n",
    "print nyc.shape\n",
    "print nyc_michelin.shape"
   ]
  },
  {
   "cell_type": "code",
   "execution_count": 136,
   "metadata": {
    "collapsed": true
   },
   "outputs": [],
   "source": [
    "# merge \n",
    "nyc_zm = pd.merge(nyc, nyc_michelin, on = 'title', how = 'outer')"
   ]
  },
  {
   "cell_type": "code",
   "execution_count": 137,
   "metadata": {
    "collapsed": false
   },
   "outputs": [
    {
     "data": {
      "text/plain": [
       "(2771, 15)"
      ]
     },
     "execution_count": 137,
     "metadata": {},
     "output_type": "execute_result"
    }
   ],
   "source": [
    "# check shape - 4 Michelin restaurants without a Zagat match\n",
    "nyc_zm.shape"
   ]
  },
  {
   "cell_type": "code",
   "execution_count": 145,
   "metadata": {
    "collapsed": false
   },
   "outputs": [
    {
     "data": {
      "text/html": [
       "<div>\n",
       "<table border=\"1\" class=\"dataframe\">\n",
       "  <thead>\n",
       "    <tr style=\"text-align: right;\">\n",
       "      <th></th>\n",
       "      <th>title</th>\n",
       "      <th>address</th>\n",
       "      <th>food</th>\n",
       "      <th>decor</th>\n",
       "      <th>service</th>\n",
       "      <th>stars</th>\n",
       "    </tr>\n",
       "  </thead>\n",
       "  <tbody>\n",
       "    <tr>\n",
       "      <th>2767</th>\n",
       "      <td>juni</td>\n",
       "      <td>12 E. 31st St., New York 10016</td>\n",
       "      <td>NaN</td>\n",
       "      <td>NaN</td>\n",
       "      <td>NaN</td>\n",
       "      <td>1.0</td>\n",
       "    </tr>\n",
       "    <tr>\n",
       "      <th>2768</th>\n",
       "      <td>hirohisa</td>\n",
       "      <td>73 Thompson St., New York 10012</td>\n",
       "      <td>NaN</td>\n",
       "      <td>NaN</td>\n",
       "      <td>NaN</td>\n",
       "      <td>1.0</td>\n",
       "    </tr>\n",
       "    <tr>\n",
       "      <th>2769</th>\n",
       "      <td>telepan</td>\n",
       "      <td>72 W. 69th St., New York 10023</td>\n",
       "      <td>NaN</td>\n",
       "      <td>NaN</td>\n",
       "      <td>NaN</td>\n",
       "      <td>1.0</td>\n",
       "    </tr>\n",
       "    <tr>\n",
       "      <th>2770</th>\n",
       "      <td>luksus at trst</td>\n",
       "      <td>615 Manhattan Ave., Brooklyn 11222</td>\n",
       "      <td>NaN</td>\n",
       "      <td>NaN</td>\n",
       "      <td>NaN</td>\n",
       "      <td>1.0</td>\n",
       "    </tr>\n",
       "  </tbody>\n",
       "</table>\n",
       "</div>"
      ],
      "text/plain": [
       "               title                             address  food  decor  \\\n",
       "2767            juni      12 E. 31st St., New York 10016   NaN    NaN   \n",
       "2768        hirohisa     73 Thompson St., New York 10012   NaN    NaN   \n",
       "2769         telepan      72 W. 69th St., New York 10023   NaN    NaN   \n",
       "2770  luksus at trst  615 Manhattan Ave., Brooklyn 11222   NaN    NaN   \n",
       "\n",
       "      service  stars  \n",
       "2767      NaN    1.0  \n",
       "2768      NaN    1.0  \n",
       "2769      NaN    1.0  \n",
       "2770      NaN    1.0  "
      ]
     },
     "execution_count": 145,
     "metadata": {},
     "output_type": "execute_result"
    }
   ],
   "source": [
    "# let's look further... \n",
    "# Juni has closed \n",
    "# Hirohisa is not Zagat rated\n",
    "# Telepan has closed but has a Zagat review: https://www.zagat.com/r/telepan-new-york\n",
    "# Luksus isn't Zagat reviewed\n",
    "\n",
    "vars = ['title', 'address', 'food', 'decor', 'service', 'stars']\n",
    "nyc_zm[vars].tail(4)"
   ]
  },
  {
   "cell_type": "code",
   "execution_count": 142,
   "metadata": {
    "collapsed": false
   },
   "outputs": [
    {
     "data": {
      "text/html": [
       "<div>\n",
       "<table border=\"1\" class=\"dataframe\">\n",
       "  <thead>\n",
       "    <tr style=\"text-align: right;\">\n",
       "      <th></th>\n",
       "      <th>addr_city</th>\n",
       "      <th>cost</th>\n",
       "      <th>cuisine</th>\n",
       "      <th>latitude</th>\n",
       "      <th>longitude</th>\n",
       "      <th>neighborhood</th>\n",
       "      <th>open_table</th>\n",
       "      <th>price_level</th>\n",
       "      <th>title</th>\n",
       "      <th>url</th>\n",
       "      <th>food</th>\n",
       "      <th>decor</th>\n",
       "      <th>service</th>\n",
       "      <th>address</th>\n",
       "      <th>stars</th>\n",
       "    </tr>\n",
       "  </thead>\n",
       "  <tbody>\n",
       "    <tr>\n",
       "      <th>2134</th>\n",
       "      <td>New York</td>\n",
       "      <td>None</td>\n",
       "      <td>None</td>\n",
       "      <td>40.7449646</td>\n",
       "      <td>-73.9885483</td>\n",
       "      <td>NoMad</td>\n",
       "      <td>http://www.opentable.com/restaurant/profile/78...</td>\n",
       "      <td>None</td>\n",
       "      <td>nomad hotel</td>\n",
       "      <td>https://www.zagat.com/r/the-nomad-hotel-librar...</td>\n",
       "      <td>0.0</td>\n",
       "      <td>0.0</td>\n",
       "      <td>0.0</td>\n",
       "      <td>1170 Broadway, New York 10001</td>\n",
       "      <td>1.0</td>\n",
       "    </tr>\n",
       "    <tr>\n",
       "      <th>2143</th>\n",
       "      <td>New York</td>\n",
       "      <td>None</td>\n",
       "      <td>Japanese</td>\n",
       "      <td>40.7481499</td>\n",
       "      <td>-73.9749146</td>\n",
       "      <td>Murray Hill</td>\n",
       "      <td>http://www.opentable.com/restaurant/profile/17...</td>\n",
       "      <td>VE</td>\n",
       "      <td>tempura matsui</td>\n",
       "      <td>https://www.zagat.com/r/tempura-matsui-new-york</td>\n",
       "      <td>0.0</td>\n",
       "      <td>0.0</td>\n",
       "      <td>0.0</td>\n",
       "      <td>222 E. 39th St., New York 10158</td>\n",
       "      <td>1.0</td>\n",
       "    </tr>\n",
       "    <tr>\n",
       "      <th>2213</th>\n",
       "      <td>New York</td>\n",
       "      <td>None</td>\n",
       "      <td>Sushi</td>\n",
       "      <td>40.7224236</td>\n",
       "      <td>-74.0099182</td>\n",
       "      <td>TriBeCa</td>\n",
       "      <td>http://www.opentable.com/restaurant/profile/17...</td>\n",
       "      <td>E</td>\n",
       "      <td>sushi azabu</td>\n",
       "      <td>https://www.zagat.com/r/sushi-azabu-new-york</td>\n",
       "      <td>0.0</td>\n",
       "      <td>0.0</td>\n",
       "      <td>0.0</td>\n",
       "      <td>428 Greenwich St., New York 10013</td>\n",
       "      <td>1.0</td>\n",
       "    </tr>\n",
       "    <tr>\n",
       "      <th>2361</th>\n",
       "      <td>New York</td>\n",
       "      <td>None</td>\n",
       "      <td>Japanese</td>\n",
       "      <td>40.7277374</td>\n",
       "      <td>-73.9842529</td>\n",
       "      <td>East Village</td>\n",
       "      <td>http://www.opentable.com/restaurant/profile/11...</td>\n",
       "      <td>E</td>\n",
       "      <td>cagen</td>\n",
       "      <td>https://www.zagat.com/r/cagen-new-york</td>\n",
       "      <td>0.0</td>\n",
       "      <td>0.0</td>\n",
       "      <td>0.0</td>\n",
       "      <td>414 E. 9th St., New York 10009</td>\n",
       "      <td>1.0</td>\n",
       "    </tr>\n",
       "    <tr>\n",
       "      <th>2765</th>\n",
       "      <td>New York</td>\n",
       "      <td>None</td>\n",
       "      <td>French</td>\n",
       "      <td>40.7546196</td>\n",
       "      <td>-73.9827271</td>\n",
       "      <td>West 40s</td>\n",
       "      <td>http://www.opentable.com/restaurant/profile/18...</td>\n",
       "      <td>E</td>\n",
       "      <td>gabriel kreuther</td>\n",
       "      <td>https://www.zagat.com/r/gabriel-kreuther-new-york</td>\n",
       "      <td>0.0</td>\n",
       "      <td>0.0</td>\n",
       "      <td>0.0</td>\n",
       "      <td>41 W. 42nd St., New York 10036</td>\n",
       "      <td>1.0</td>\n",
       "    </tr>\n",
       "  </tbody>\n",
       "</table>\n",
       "</div>"
      ],
      "text/plain": [
       "     addr_city  cost   cuisine    latitude    longitude  neighborhood  \\\n",
       "2134  New York  None      None  40.7449646  -73.9885483         NoMad   \n",
       "2143  New York  None  Japanese  40.7481499  -73.9749146   Murray Hill   \n",
       "2213  New York  None     Sushi  40.7224236  -74.0099182       TriBeCa   \n",
       "2361  New York  None  Japanese  40.7277374  -73.9842529  East Village   \n",
       "2765  New York  None    French  40.7546196  -73.9827271      West 40s   \n",
       "\n",
       "                                             open_table price_level  \\\n",
       "2134  http://www.opentable.com/restaurant/profile/78...        None   \n",
       "2143  http://www.opentable.com/restaurant/profile/17...          VE   \n",
       "2213  http://www.opentable.com/restaurant/profile/17...           E   \n",
       "2361  http://www.opentable.com/restaurant/profile/11...           E   \n",
       "2765  http://www.opentable.com/restaurant/profile/18...           E   \n",
       "\n",
       "                 title                                                url  \\\n",
       "2134       nomad hotel  https://www.zagat.com/r/the-nomad-hotel-librar...   \n",
       "2143    tempura matsui    https://www.zagat.com/r/tempura-matsui-new-york   \n",
       "2213       sushi azabu       https://www.zagat.com/r/sushi-azabu-new-york   \n",
       "2361             cagen             https://www.zagat.com/r/cagen-new-york   \n",
       "2765  gabriel kreuther  https://www.zagat.com/r/gabriel-kreuther-new-york   \n",
       "\n",
       "      food  decor  service                            address  stars  \n",
       "2134   0.0    0.0      0.0      1170 Broadway, New York 10001    1.0  \n",
       "2143   0.0    0.0      0.0    222 E. 39th St., New York 10158    1.0  \n",
       "2213   0.0    0.0      0.0  428 Greenwich St., New York 10013    1.0  \n",
       "2361   0.0    0.0      0.0     414 E. 9th St., New York 10009    1.0  \n",
       "2765   0.0    0.0      0.0     41 W. 42nd St., New York 10036    1.0  "
      ]
     },
     "execution_count": 142,
     "metadata": {},
     "output_type": "execute_result"
    }
   ],
   "source": [
    "# This shows 5 restaurants that are on Zagat but have no rating\n",
    "nyc_zm[(nyc_zm.stars >0) & (nyc_zm.food ==0)]"
   ]
  },
  {
   "cell_type": "code",
   "execution_count": 147,
   "metadata": {
    "collapsed": false
   },
   "outputs": [
    {
     "name": "stderr",
     "output_type": "stream",
     "text": [
      "C:\\Users\\elynchklarup\\AppData\\Local\\Continuum\\Anaconda2_take2\\lib\\site-packages\\ipykernel\\__main__.py:1: UserWarning: This pattern has match groups. To actually get the groups, use str.extract.\n",
      "  if __name__ == '__main__':\n"
     ]
    },
    {
     "data": {
      "text/html": [
       "<div>\n",
       "<table border=\"1\" class=\"dataframe\">\n",
       "  <thead>\n",
       "    <tr style=\"text-align: right;\">\n",
       "      <th></th>\n",
       "      <th>addr_city</th>\n",
       "      <th>cost</th>\n",
       "      <th>cuisine</th>\n",
       "      <th>latitude</th>\n",
       "      <th>longitude</th>\n",
       "      <th>neighborhood</th>\n",
       "      <th>open_table</th>\n",
       "      <th>price_level</th>\n",
       "      <th>title</th>\n",
       "      <th>url</th>\n",
       "      <th>score5_food</th>\n",
       "      <th>score5_decor</th>\n",
       "      <th>score5_service</th>\n",
       "    </tr>\n",
       "  </thead>\n",
       "  <tbody>\n",
       "    <tr>\n",
       "      <th>7</th>\n",
       "      <td>Brooklyn</td>\n",
       "      <td>88</td>\n",
       "      <td>Steakhouse</td>\n",
       "      <td>40.7098198</td>\n",
       "      <td>-73.9624634</td>\n",
       "      <td>Williamsburg</td>\n",
       "      <td></td>\n",
       "      <td>VE</td>\n",
       "      <td>peter luger steak house</td>\n",
       "      <td>https://www.zagat.com/r/peter-luger-steak-hous...</td>\n",
       "      <td>4.7</td>\n",
       "      <td>3.9</td>\n",
       "      <td>4.3</td>\n",
       "    </tr>\n",
       "  </tbody>\n",
       "</table>\n",
       "</div>"
      ],
      "text/plain": [
       "  addr_city cost     cuisine    latitude    longitude  neighborhood  \\\n",
       "7  Brooklyn   88  Steakhouse  40.7098198  -73.9624634  Williamsburg   \n",
       "\n",
       "  open_table price_level                    title  \\\n",
       "7                     VE  peter luger steak house   \n",
       "\n",
       "                                                 url  score5_food  \\\n",
       "7  https://www.zagat.com/r/peter-luger-steak-hous...          4.7   \n",
       "\n",
       "   score5_decor  score5_service  \n",
       "7           3.9             4.3  "
      ]
     },
     "execution_count": 147,
     "metadata": {},
     "output_type": "execute_result"
    }
   ],
   "source": [
    "nyc[nyc.title.str.contains('(luger)')]"
   ]
  },
  {
   "cell_type": "code",
   "execution_count": 151,
   "metadata": {
    "collapsed": false
   },
   "outputs": [
    {
     "data": {
      "text/html": [
       "<div>\n",
       "<table border=\"1\" class=\"dataframe\">\n",
       "  <thead>\n",
       "    <tr style=\"text-align: right;\">\n",
       "      <th></th>\n",
       "      <th>title</th>\n",
       "      <th>cost</th>\n",
       "      <th>cuisine</th>\n",
       "      <th>open_table</th>\n",
       "      <th>price_level</th>\n",
       "      <th>food</th>\n",
       "      <th>decor</th>\n",
       "      <th>service</th>\n",
       "      <th>stars</th>\n",
       "    </tr>\n",
       "  </thead>\n",
       "  <tbody>\n",
       "    <tr>\n",
       "      <th>0</th>\n",
       "      <td>daniel</td>\n",
       "      <td>176</td>\n",
       "      <td>French</td>\n",
       "      <td></td>\n",
       "      <td>VE</td>\n",
       "      <td>4.9</td>\n",
       "      <td>4.8</td>\n",
       "      <td>4.9</td>\n",
       "      <td>2.0</td>\n",
       "    </tr>\n",
       "    <tr>\n",
       "      <th>1</th>\n",
       "      <td>bouley</td>\n",
       "      <td>141</td>\n",
       "      <td>French</td>\n",
       "      <td>http://www.opentable.com/restaurant/profile/29...</td>\n",
       "      <td>VE</td>\n",
       "      <td>4.9</td>\n",
       "      <td>4.8</td>\n",
       "      <td>4.8</td>\n",
       "      <td>1.0</td>\n",
       "    </tr>\n",
       "    <tr>\n",
       "      <th>2</th>\n",
       "      <td>le bernardin</td>\n",
       "      <td>182</td>\n",
       "      <td>Seafood</td>\n",
       "      <td>http://www.opentable.com/restaurant/profile/25...</td>\n",
       "      <td>VE</td>\n",
       "      <td>4.9</td>\n",
       "      <td>4.8</td>\n",
       "      <td>4.9</td>\n",
       "      <td>3.0</td>\n",
       "    </tr>\n",
       "    <tr>\n",
       "      <th>3</th>\n",
       "      <td>per se</td>\n",
       "      <td>341</td>\n",
       "      <td>New American</td>\n",
       "      <td>http://www.opentable.com/restaurant/profile/27...</td>\n",
       "      <td>VE</td>\n",
       "      <td>4.8</td>\n",
       "      <td>4.7</td>\n",
       "      <td>4.8</td>\n",
       "      <td>3.0</td>\n",
       "    </tr>\n",
       "    <tr>\n",
       "      <th>4</th>\n",
       "      <td>graffiti</td>\n",
       "      <td>58</td>\n",
       "      <td>Asian</td>\n",
       "      <td></td>\n",
       "      <td>E</td>\n",
       "      <td>4.8</td>\n",
       "      <td>4.3</td>\n",
       "      <td>4.7</td>\n",
       "      <td>NaN</td>\n",
       "    </tr>\n",
       "    <tr>\n",
       "      <th>5</th>\n",
       "      <td>jean-georges</td>\n",
       "      <td>166</td>\n",
       "      <td>French</td>\n",
       "      <td>http://www.opentable.com/restaurant/profile/31...</td>\n",
       "      <td>VE</td>\n",
       "      <td>4.8</td>\n",
       "      <td>4.8</td>\n",
       "      <td>4.8</td>\n",
       "      <td>3.0</td>\n",
       "    </tr>\n",
       "    <tr>\n",
       "      <th>6</th>\n",
       "      <td>eleven madison park</td>\n",
       "      <td>325</td>\n",
       "      <td>None</td>\n",
       "      <td>http://www.opentable.com/restaurant/profile/21...</td>\n",
       "      <td>VE</td>\n",
       "      <td>4.8</td>\n",
       "      <td>4.8</td>\n",
       "      <td>4.8</td>\n",
       "      <td>3.0</td>\n",
       "    </tr>\n",
       "    <tr>\n",
       "      <th>7</th>\n",
       "      <td>gotham bar and grill</td>\n",
       "      <td>91</td>\n",
       "      <td>American</td>\n",
       "      <td>http://www.opentable.com/restaurant/profile/62...</td>\n",
       "      <td>VE</td>\n",
       "      <td>4.8</td>\n",
       "      <td>4.6</td>\n",
       "      <td>4.7</td>\n",
       "      <td>1.0</td>\n",
       "    </tr>\n",
       "    <tr>\n",
       "      <th>8</th>\n",
       "      <td>peter luger steak house</td>\n",
       "      <td>88</td>\n",
       "      <td>Steakhouse</td>\n",
       "      <td></td>\n",
       "      <td>VE</td>\n",
       "      <td>4.8</td>\n",
       "      <td>3.7</td>\n",
       "      <td>4.2</td>\n",
       "      <td>1.0</td>\n",
       "    </tr>\n",
       "    <tr>\n",
       "      <th>9</th>\n",
       "      <td>gramercy tavern</td>\n",
       "      <td>120</td>\n",
       "      <td>American</td>\n",
       "      <td>http://www.opentable.com/restaurant/profile/94...</td>\n",
       "      <td>VE</td>\n",
       "      <td>4.8</td>\n",
       "      <td>4.6</td>\n",
       "      <td>4.7</td>\n",
       "      <td>1.0</td>\n",
       "    </tr>\n",
       "    <tr>\n",
       "      <th>10</th>\n",
       "      <td>blue hill</td>\n",
       "      <td>103</td>\n",
       "      <td>American</td>\n",
       "      <td>http://www.opentable.com/restaurant/profile/20...</td>\n",
       "      <td>VE</td>\n",
       "      <td>4.8</td>\n",
       "      <td>4.3</td>\n",
       "      <td>4.7</td>\n",
       "      <td>1.0</td>\n",
       "    </tr>\n",
       "    <tr>\n",
       "      <th>11</th>\n",
       "      <td>ample hills creamery</td>\n",
       "      <td>8</td>\n",
       "      <td>Ice Cream Shop</td>\n",
       "      <td></td>\n",
       "      <td>I</td>\n",
       "      <td>4.7</td>\n",
       "      <td>3.9</td>\n",
       "      <td>4.3</td>\n",
       "      <td>NaN</td>\n",
       "    </tr>\n",
       "    <tr>\n",
       "      <th>12</th>\n",
       "      <td>ample hills creamery</td>\n",
       "      <td>8</td>\n",
       "      <td>Ice Cream Shop</td>\n",
       "      <td></td>\n",
       "      <td>I</td>\n",
       "      <td>4.7</td>\n",
       "      <td>3.9</td>\n",
       "      <td>4.3</td>\n",
       "      <td>NaN</td>\n",
       "    </tr>\n",
       "    <tr>\n",
       "      <th>13</th>\n",
       "      <td>ample hills creamery</td>\n",
       "      <td>8</td>\n",
       "      <td>Ice Cream Shop</td>\n",
       "      <td></td>\n",
       "      <td>I</td>\n",
       "      <td>4.7</td>\n",
       "      <td>3.9</td>\n",
       "      <td>4.3</td>\n",
       "      <td>NaN</td>\n",
       "    </tr>\n",
       "    <tr>\n",
       "      <th>14</th>\n",
       "      <td>ample hills creamery</td>\n",
       "      <td>8</td>\n",
       "      <td>Ice Cream Shop</td>\n",
       "      <td></td>\n",
       "      <td>I</td>\n",
       "      <td>4.7</td>\n",
       "      <td>3.9</td>\n",
       "      <td>4.3</td>\n",
       "      <td>NaN</td>\n",
       "    </tr>\n",
       "    <tr>\n",
       "      <th>15</th>\n",
       "      <td>aquagrill</td>\n",
       "      <td>68</td>\n",
       "      <td>Seafood</td>\n",
       "      <td>http://www.opentable.com/restaurant/profile/16...</td>\n",
       "      <td>E</td>\n",
       "      <td>4.7</td>\n",
       "      <td>4.0</td>\n",
       "      <td>4.3</td>\n",
       "      <td>NaN</td>\n",
       "    </tr>\n",
       "    <tr>\n",
       "      <th>16</th>\n",
       "      <td>la vara</td>\n",
       "      <td>55</td>\n",
       "      <td>Spanish</td>\n",
       "      <td>http://www.opentable.com/restaurant/profile/11...</td>\n",
       "      <td>E</td>\n",
       "      <td>4.7</td>\n",
       "      <td>4.0</td>\n",
       "      <td>4.3</td>\n",
       "      <td>1.0</td>\n",
       "    </tr>\n",
       "    <tr>\n",
       "      <th>17</th>\n",
       "      <td>pearl oyster bar</td>\n",
       "      <td>51</td>\n",
       "      <td>Seafood</td>\n",
       "      <td></td>\n",
       "      <td>E</td>\n",
       "      <td>4.7</td>\n",
       "      <td>3.6</td>\n",
       "      <td>4.1</td>\n",
       "      <td>NaN</td>\n",
       "    </tr>\n",
       "    <tr>\n",
       "      <th>18</th>\n",
       "      <td>nobu fifty seven</td>\n",
       "      <td>89</td>\n",
       "      <td>Japanese</td>\n",
       "      <td>http://www.opentable.com/restaurant/profile/45...</td>\n",
       "      <td>VE</td>\n",
       "      <td>4.7</td>\n",
       "      <td>4.3</td>\n",
       "      <td>4.4</td>\n",
       "      <td>NaN</td>\n",
       "    </tr>\n",
       "    <tr>\n",
       "      <th>19</th>\n",
       "      <td>paulie gee's</td>\n",
       "      <td>28</td>\n",
       "      <td>Pizza</td>\n",
       "      <td></td>\n",
       "      <td>M</td>\n",
       "      <td>4.7</td>\n",
       "      <td>4.2</td>\n",
       "      <td>4.2</td>\n",
       "      <td>NaN</td>\n",
       "    </tr>\n",
       "  </tbody>\n",
       "</table>\n",
       "</div>"
      ],
      "text/plain": [
       "                      title cost         cuisine  \\\n",
       "0                    daniel  176          French   \n",
       "1                    bouley  141          French   \n",
       "2              le bernardin  182         Seafood   \n",
       "3                    per se  341    New American   \n",
       "4                  graffiti   58           Asian   \n",
       "5              jean-georges  166          French   \n",
       "6       eleven madison park  325            None   \n",
       "7      gotham bar and grill   91        American   \n",
       "8   peter luger steak house   88      Steakhouse   \n",
       "9           gramercy tavern  120        American   \n",
       "10                blue hill  103        American   \n",
       "11     ample hills creamery    8  Ice Cream Shop   \n",
       "12     ample hills creamery    8  Ice Cream Shop   \n",
       "13     ample hills creamery    8  Ice Cream Shop   \n",
       "14     ample hills creamery    8  Ice Cream Shop   \n",
       "15                aquagrill   68         Seafood   \n",
       "16                  la vara   55         Spanish   \n",
       "17         pearl oyster bar   51         Seafood   \n",
       "18         nobu fifty seven   89        Japanese   \n",
       "19             paulie gee's   28           Pizza   \n",
       "\n",
       "                                           open_table price_level  food  \\\n",
       "0                                                              VE   4.9   \n",
       "1   http://www.opentable.com/restaurant/profile/29...          VE   4.9   \n",
       "2   http://www.opentable.com/restaurant/profile/25...          VE   4.9   \n",
       "3   http://www.opentable.com/restaurant/profile/27...          VE   4.8   \n",
       "4                                                               E   4.8   \n",
       "5   http://www.opentable.com/restaurant/profile/31...          VE   4.8   \n",
       "6   http://www.opentable.com/restaurant/profile/21...          VE   4.8   \n",
       "7   http://www.opentable.com/restaurant/profile/62...          VE   4.8   \n",
       "8                                                              VE   4.8   \n",
       "9   http://www.opentable.com/restaurant/profile/94...          VE   4.8   \n",
       "10  http://www.opentable.com/restaurant/profile/20...          VE   4.8   \n",
       "11                                                              I   4.7   \n",
       "12                                                              I   4.7   \n",
       "13                                                              I   4.7   \n",
       "14                                                              I   4.7   \n",
       "15  http://www.opentable.com/restaurant/profile/16...           E   4.7   \n",
       "16  http://www.opentable.com/restaurant/profile/11...           E   4.7   \n",
       "17                                                              E   4.7   \n",
       "18  http://www.opentable.com/restaurant/profile/45...          VE   4.7   \n",
       "19                                                              M   4.7   \n",
       "\n",
       "    decor  service  stars  \n",
       "0     4.8      4.9    2.0  \n",
       "1     4.8      4.8    1.0  \n",
       "2     4.8      4.9    3.0  \n",
       "3     4.7      4.8    3.0  \n",
       "4     4.3      4.7    NaN  \n",
       "5     4.8      4.8    3.0  \n",
       "6     4.8      4.8    3.0  \n",
       "7     4.6      4.7    1.0  \n",
       "8     3.7      4.2    1.0  \n",
       "9     4.6      4.7    1.0  \n",
       "10    4.3      4.7    1.0  \n",
       "11    3.9      4.3    NaN  \n",
       "12    3.9      4.3    NaN  \n",
       "13    3.9      4.3    NaN  \n",
       "14    3.9      4.3    NaN  \n",
       "15    4.0      4.3    NaN  \n",
       "16    4.0      4.3    1.0  \n",
       "17    3.6      4.1    NaN  \n",
       "18    4.3      4.4    NaN  \n",
       "19    4.2      4.2    NaN  "
      ]
     },
     "execution_count": 151,
     "metadata": {},
     "output_type": "execute_result"
    }
   ],
   "source": [
    "nyc_zm[['title', 'cost', 'cuisine', 'open_table', 'price_level', 'food', 'decor', 'service', 'stars']].head(20)"
   ]
  },
  {
   "cell_type": "code",
   "execution_count": 147,
   "metadata": {
    "collapsed": true
   },
   "outputs": [],
   "source": [
    "#saving clean datasets\n",
    "dc.to_pickle('../dc_clean.pkl') \n",
    "nyc.to_pickle('../nyc_clean.pkl') \n",
    "chicago.to_pickle('../chicago_clean.pkl') \n",
    "sf.to_pickle('../sf_clean.pkl') \n",
    "dc_prop.to_pickle('../dc_prop_clean.pkl') \n",
    "michelin.to_pickle('../michelin_clean.pkl')"
   ]
  },
  {
   "cell_type": "code",
   "execution_count": 148,
   "metadata": {
    "collapsed": true
   },
   "outputs": [],
   "source": [
    "#saving merged datasets\n",
    "nyc_zm.to_pickle('../nyc_zm.pkl')\n",
    "sf_zm.to_pickle('../sf_zm.pkl')\n",
    "chicago_zm.to_pickle('../chicago_zm.pkl')"
   ]
  }
 ],
 "metadata": {
  "anaconda-cloud": {},
  "kernelspec": {
   "display_name": "Python [Root]",
   "language": "python",
   "name": "Python [Root]"
  },
  "language_info": {
   "codemirror_mode": {
    "name": "ipython",
    "version": 2
   },
   "file_extension": ".py",
   "mimetype": "text/x-python",
   "name": "python",
   "nbconvert_exporter": "python",
   "pygments_lexer": "ipython2",
   "version": "2.7.12"
  }
 },
 "nbformat": 4,
 "nbformat_minor": 0
}
