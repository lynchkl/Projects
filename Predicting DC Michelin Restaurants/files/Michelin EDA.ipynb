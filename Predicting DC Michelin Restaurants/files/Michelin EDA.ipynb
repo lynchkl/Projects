{
 "cells": [
  {
   "cell_type": "markdown",
   "metadata": {},
   "source": [
    "Exploratory analysis"
   ]
  },
  {
   "cell_type": "raw",
   "metadata": {},
   "source": [
    "import pandas as pd\n",
    "import numpy as np\n",
    "%matplotlib inline"
   ]
  },
  {
   "cell_type": "code",
   "execution_count": 699,
   "metadata": {
    "collapsed": true
   },
   "outputs": [],
   "source": [
    "# Reading in the merged data\n",
    "nyc_zm = pd.read_pickle('../nyc_zm.pkl')\n",
    "sf_zm = pd.read_pickle('../sf_zm.pkl')\n",
    "chicago_zm = pd.read_pickle('../chicago_zm.pkl')\n",
    "\n",
    "# And DC, which I'm predicting:\n",
    "dc = pd.read_pickle('../dc.pkl') \n",
    "dc_prop = pd.read_pickle('../dc_prop.pkl') "
   ]
  },
  {
   "cell_type": "raw",
   "metadata": {},
   "source": [
    "I have a file lableled dc which is actually the whole DMV area, and a file labeled dc_prop which is just the district proper. I think it makes more sense to predict with the full DMV area, and then just omit everything outside the borders. My theory is that surrounding restaurants may impact DC ratings (matters if I normalize data). \n",
    "\n",
    "I can model it both ways though. "
   ]
  },
  {
   "cell_type": "markdown",
   "metadata": {},
   "source": [
    "EDA"
   ]
  },
  {
   "cell_type": "code",
   "execution_count": 804,
   "metadata": {
    "collapsed": false
   },
   "outputs": [
    {
     "name": "stdout",
     "output_type": "stream",
     "text": [
      "(2029, 15)\n",
      "(2771, 15)\n",
      "(4800, 15)\n"
     ]
    }
   ],
   "source": [
    "#merging nyc and sf to look at\n",
    "print sf_zm.shape\n",
    "print nyc_zm.shape\n",
    "training = sf_zm.append(nyc_zm)\n",
    "print training.shape"
   ]
  },
  {
   "cell_type": "code",
   "execution_count": 805,
   "metadata": {
    "collapsed": false
   },
   "outputs": [
    {
     "name": "stdout",
     "output_type": "stream",
     "text": [
      "(4790, 15)\n"
     ]
    }
   ],
   "source": [
    "#dropping 10 obs where I only have Michelin data\n",
    "training = training[np.isfinite(training['food'])]\n",
    "print training.shape"
   ]
  },
  {
   "cell_type": "code",
   "execution_count": 31,
   "metadata": {
    "collapsed": false
   },
   "outputs": [
    {
     "data": {
      "text/plain": [
       "1385"
      ]
     },
     "execution_count": 31,
     "metadata": {},
     "output_type": "execute_result"
    }
   ],
   "source": [
    "# Missing cost for over 25% of my dataset\n",
    "training.cost.isnull().sum()"
   ]
  },
  {
   "cell_type": "code",
   "execution_count": 35,
   "metadata": {
    "collapsed": false
   },
   "outputs": [
    {
     "data": {
      "text/html": [
       "<div>\n",
       "<table border=\"1\" class=\"dataframe\">\n",
       "  <thead>\n",
       "    <tr style=\"text-align: right;\">\n",
       "      <th></th>\n",
       "      <th>addr_city</th>\n",
       "      <th>cost</th>\n",
       "      <th>cuisine</th>\n",
       "      <th>latitude</th>\n",
       "      <th>longitude</th>\n",
       "      <th>neighborhood</th>\n",
       "      <th>open_table</th>\n",
       "      <th>price_level</th>\n",
       "      <th>title</th>\n",
       "      <th>url</th>\n",
       "      <th>food</th>\n",
       "      <th>decor</th>\n",
       "      <th>service</th>\n",
       "      <th>address</th>\n",
       "      <th>stars</th>\n",
       "    </tr>\n",
       "  </thead>\n",
       "  <tbody>\n",
       "    <tr>\n",
       "      <th>4565</th>\n",
       "      <td>Berkeley</td>\n",
       "      <td>None</td>\n",
       "      <td>None</td>\n",
       "      <td>37.8795967</td>\n",
       "      <td>-122.2975159</td>\n",
       "      <td>None</td>\n",
       "      <td></td>\n",
       "      <td>I</td>\n",
       "      <td>doughnut dolly</td>\n",
       "      <td>https://www.zagat.com/r/doughnut-dolly-berkeley</td>\n",
       "      <td>0.0</td>\n",
       "      <td>0.0</td>\n",
       "      <td>0.0</td>\n",
       "      <td>NaN</td>\n",
       "      <td>NaN</td>\n",
       "    </tr>\n",
       "    <tr>\n",
       "      <th>2523</th>\n",
       "      <td>New York</td>\n",
       "      <td>None</td>\n",
       "      <td>French</td>\n",
       "      <td>40.7191391</td>\n",
       "      <td>-74.0002518</td>\n",
       "      <td>SoHo</td>\n",
       "      <td>http://www.opentable.com/restaurant/profile/21...</td>\n",
       "      <td>VE</td>\n",
       "      <td>le coucou</td>\n",
       "      <td>https://www.zagat.com/r/le-coucou-new-york</td>\n",
       "      <td>0.0</td>\n",
       "      <td>0.0</td>\n",
       "      <td>0.0</td>\n",
       "      <td>NaN</td>\n",
       "      <td>NaN</td>\n",
       "    </tr>\n",
       "    <tr>\n",
       "      <th>4110</th>\n",
       "      <td>San Francisco</td>\n",
       "      <td>None</td>\n",
       "      <td>None</td>\n",
       "      <td>37.7998466</td>\n",
       "      <td>-122.4412460</td>\n",
       "      <td>Marina District</td>\n",
       "      <td></td>\n",
       "      <td>M</td>\n",
       "      <td>reed greenough</td>\n",
       "      <td>https://www.zagat.com/r/reed-greenough-san-fra...</td>\n",
       "      <td>0.0</td>\n",
       "      <td>0.0</td>\n",
       "      <td>0.0</td>\n",
       "      <td>NaN</td>\n",
       "      <td>NaN</td>\n",
       "    </tr>\n",
       "    <tr>\n",
       "      <th>2422</th>\n",
       "      <td>New York</td>\n",
       "      <td>None</td>\n",
       "      <td>Chinese</td>\n",
       "      <td>40.7409706</td>\n",
       "      <td>-73.9934006</td>\n",
       "      <td>Flatiron</td>\n",
       "      <td>http://www.opentable.com/restaurant/profile/19...</td>\n",
       "      <td>E</td>\n",
       "      <td>jue lan club</td>\n",
       "      <td>https://www.zagat.com/r/jue-lan-club-new-york</td>\n",
       "      <td>0.0</td>\n",
       "      <td>0.0</td>\n",
       "      <td>0.0</td>\n",
       "      <td>NaN</td>\n",
       "      <td>NaN</td>\n",
       "    </tr>\n",
       "    <tr>\n",
       "      <th>4243</th>\n",
       "      <td>Danville</td>\n",
       "      <td>None</td>\n",
       "      <td>Californian</td>\n",
       "      <td>37.8206902</td>\n",
       "      <td>-121.9979019</td>\n",
       "      <td>None</td>\n",
       "      <td></td>\n",
       "      <td>M</td>\n",
       "      <td>farmer's almanac</td>\n",
       "      <td>https://www.zagat.com/r/almanac-restaurant-dan...</td>\n",
       "      <td>0.0</td>\n",
       "      <td>0.0</td>\n",
       "      <td>0.0</td>\n",
       "      <td>NaN</td>\n",
       "      <td>NaN</td>\n",
       "    </tr>\n",
       "    <tr>\n",
       "      <th>4398</th>\n",
       "      <td>San Francisco</td>\n",
       "      <td>NaN</td>\n",
       "      <td>Japanese</td>\n",
       "      <td>37.7878761</td>\n",
       "      <td>-122.4334412</td>\n",
       "      <td>Lower Pacific Heights</td>\n",
       "      <td></td>\n",
       "      <td>I</td>\n",
       "      <td>glaze teriyaki</td>\n",
       "      <td>https://www.zagat.com/r/glaze-teriyaki-grill-s...</td>\n",
       "      <td>0.0</td>\n",
       "      <td>0.0</td>\n",
       "      <td>0.0</td>\n",
       "      <td>NaN</td>\n",
       "      <td>NaN</td>\n",
       "    </tr>\n",
       "    <tr>\n",
       "      <th>2223</th>\n",
       "      <td>Brooklyn</td>\n",
       "      <td>None</td>\n",
       "      <td>American</td>\n",
       "      <td>40.6906509</td>\n",
       "      <td>-73.9950180</td>\n",
       "      <td>Brooklyn Heights</td>\n",
       "      <td>http://www.opentable.com/restaurant/profile/26...</td>\n",
       "      <td>E</td>\n",
       "      <td>beasts bottles</td>\n",
       "      <td>https://www.zagat.com/r/beasts-bottles-brooklyn</td>\n",
       "      <td>0.0</td>\n",
       "      <td>0.0</td>\n",
       "      <td>0.0</td>\n",
       "      <td>NaN</td>\n",
       "      <td>NaN</td>\n",
       "    </tr>\n",
       "  </tbody>\n",
       "</table>\n",
       "</div>"
      ],
      "text/plain": [
       "          addr_city  cost      cuisine    latitude     longitude  \\\n",
       "4565       Berkeley  None         None  37.8795967  -122.2975159   \n",
       "2523       New York  None       French  40.7191391   -74.0002518   \n",
       "4110  San Francisco  None         None  37.7998466  -122.4412460   \n",
       "2422       New York  None      Chinese  40.7409706   -73.9934006   \n",
       "4243       Danville  None  Californian  37.8206902  -121.9979019   \n",
       "4398  San Francisco   NaN     Japanese  37.7878761  -122.4334412   \n",
       "2223       Brooklyn  None     American  40.6906509   -73.9950180   \n",
       "\n",
       "               neighborhood  \\\n",
       "4565                   None   \n",
       "2523                   SoHo   \n",
       "4110        Marina District   \n",
       "2422               Flatiron   \n",
       "4243                   None   \n",
       "4398  Lower Pacific Heights   \n",
       "2223       Brooklyn Heights   \n",
       "\n",
       "                                             open_table price_level  \\\n",
       "4565                                                              I   \n",
       "2523  http://www.opentable.com/restaurant/profile/21...          VE   \n",
       "4110                                                              M   \n",
       "2422  http://www.opentable.com/restaurant/profile/19...           E   \n",
       "4243                                                              M   \n",
       "4398                                                              I   \n",
       "2223  http://www.opentable.com/restaurant/profile/26...           E   \n",
       "\n",
       "                 title                                                url  \\\n",
       "4565    doughnut dolly    https://www.zagat.com/r/doughnut-dolly-berkeley   \n",
       "2523         le coucou         https://www.zagat.com/r/le-coucou-new-york   \n",
       "4110    reed greenough  https://www.zagat.com/r/reed-greenough-san-fra...   \n",
       "2422      jue lan club      https://www.zagat.com/r/jue-lan-club-new-york   \n",
       "4243  farmer's almanac  https://www.zagat.com/r/almanac-restaurant-dan...   \n",
       "4398    glaze teriyaki  https://www.zagat.com/r/glaze-teriyaki-grill-s...   \n",
       "2223    beasts bottles    https://www.zagat.com/r/beasts-bottles-brooklyn   \n",
       "\n",
       "      food  decor  service address  stars  \n",
       "4565   0.0    0.0      0.0     NaN    NaN  \n",
       "2523   0.0    0.0      0.0     NaN    NaN  \n",
       "4110   0.0    0.0      0.0     NaN    NaN  \n",
       "2422   0.0    0.0      0.0     NaN    NaN  \n",
       "4243   0.0    0.0      0.0     NaN    NaN  \n",
       "4398   0.0    0.0      0.0     NaN    NaN  \n",
       "2223   0.0    0.0      0.0     NaN    NaN  "
      ]
     },
     "execution_count": 35,
     "metadata": {},
     "output_type": "execute_result"
    }
   ],
   "source": [
    "# Looks like these may be restaurants without Zagat ratings - they do at least have price level\n",
    "training[training.cost.isnull()==True].sample(7)"
   ]
  },
  {
   "cell_type": "code",
   "execution_count": 33,
   "metadata": {
    "collapsed": false
   },
   "outputs": [
    {
     "data": {
      "text/plain": [
       "NaN                   824\n",
       "Italian               473\n",
       "American              386\n",
       "French                200\n",
       "Mexican               199\n",
       "Pizza                 181\n",
       "Japanese              178\n",
       "Chinese               142\n",
       "New American          141\n",
       "Seafood               137\n",
       "Coffee Shop           126\n",
       "Burger                102\n",
       "Steakhouse             99\n",
       "Cafe                   94\n",
       "Ice Cream Shop         79\n",
       "Indian                 78\n",
       "Californian            76\n",
       "Mediterranean          72\n",
       "Thai                   70\n",
       "Asian                  66\n",
       "Sandwich Shop          64\n",
       "Korean                 46\n",
       "Sushi                  46\n",
       "Spanish                45\n",
       "Greek                  39\n",
       "Vietnamese             38\n",
       "Gastropub              38\n",
       "Barbecue               37\n",
       "Middle Eastern         33\n",
       "Ramen                  32\n",
       "                     ... \n",
       "Argentinean             2\n",
       "Sri Lankan              2\n",
       "English                 2\n",
       "Swedish                 2\n",
       "Jamaican                2\n",
       "Eastern European        2\n",
       "South Asia              2\n",
       "South American          2\n",
       "Continental             2\n",
       "Georgian                2\n",
       "Romanian                1\n",
       "Colombian               1\n",
       "Dominican               1\n",
       "Salvadoran              1\n",
       "Czech                   1\n",
       "Polish                  1\n",
       "Canadian                1\n",
       "Chophouse               1\n",
       "Serbian                 1\n",
       "New Zealand             1\n",
       "Irish                   1\n",
       "Pho                     1\n",
       "Japanese Curry          1\n",
       "Hot Pot                 1\n",
       "Swiss                   1\n",
       "Frozen Yogurt Shop      1\n",
       "Singaporean             1\n",
       "Creperie                1\n",
       "Ukrainian               1\n",
       "Cake Shop               1\n",
       "Name: cuisine, dtype: int64"
      ]
     },
     "execution_count": 33,
     "metadata": {},
     "output_type": "execute_result"
    }
   ],
   "source": [
    "training.cuisine.value_counts(dropna=False)"
   ]
  },
  {
   "cell_type": "code",
   "execution_count": 36,
   "metadata": {
    "collapsed": false
   },
   "outputs": [
    {
     "data": {
      "text/html": [
       "<div>\n",
       "<table border=\"1\" class=\"dataframe\">\n",
       "  <thead>\n",
       "    <tr style=\"text-align: right;\">\n",
       "      <th></th>\n",
       "      <th>addr_city</th>\n",
       "      <th>cost</th>\n",
       "      <th>cuisine</th>\n",
       "      <th>latitude</th>\n",
       "      <th>longitude</th>\n",
       "      <th>neighborhood</th>\n",
       "      <th>open_table</th>\n",
       "      <th>price_level</th>\n",
       "      <th>title</th>\n",
       "      <th>url</th>\n",
       "      <th>food</th>\n",
       "      <th>decor</th>\n",
       "      <th>service</th>\n",
       "      <th>address</th>\n",
       "      <th>stars</th>\n",
       "    </tr>\n",
       "  </thead>\n",
       "  <tbody>\n",
       "    <tr>\n",
       "      <th>2252</th>\n",
       "      <td>New York</td>\n",
       "      <td>None</td>\n",
       "      <td>None</td>\n",
       "      <td>40.7647171</td>\n",
       "      <td>-73.9915619</td>\n",
       "      <td>West 50s</td>\n",
       "      <td></td>\n",
       "      <td>M</td>\n",
       "      <td>as is nyc</td>\n",
       "      <td>https://www.zagat.com/r/as-is-nyc-new-york</td>\n",
       "      <td>0.0</td>\n",
       "      <td>0.0</td>\n",
       "      <td>0.0</td>\n",
       "      <td>NaN</td>\n",
       "      <td>NaN</td>\n",
       "    </tr>\n",
       "    <tr>\n",
       "      <th>2659</th>\n",
       "      <td>Staten Island</td>\n",
       "      <td>None</td>\n",
       "      <td>None</td>\n",
       "      <td>40.6005249</td>\n",
       "      <td>-74.0922623</td>\n",
       "      <td>Grasmere</td>\n",
       "      <td></td>\n",
       "      <td>M</td>\n",
       "      <td>pastosa ravioli</td>\n",
       "      <td>https://www.zagat.com/r/pastosa-ravioli-new-york2</td>\n",
       "      <td>0.0</td>\n",
       "      <td>0.0</td>\n",
       "      <td>0.0</td>\n",
       "      <td>NaN</td>\n",
       "      <td>NaN</td>\n",
       "    </tr>\n",
       "    <tr>\n",
       "      <th>1395</th>\n",
       "      <td>Staten Island</td>\n",
       "      <td>53</td>\n",
       "      <td>None</td>\n",
       "      <td>40.5876961</td>\n",
       "      <td>-74.1969452</td>\n",
       "      <td>Travis-Chelsea</td>\n",
       "      <td></td>\n",
       "      <td>E</td>\n",
       "      <td>da noi on victory boulevard</td>\n",
       "      <td>https://www.zagat.com/r/da-noi-new-york</td>\n",
       "      <td>4.2</td>\n",
       "      <td>3.8</td>\n",
       "      <td>4.1</td>\n",
       "      <td>NaN</td>\n",
       "      <td>NaN</td>\n",
       "    </tr>\n",
       "    <tr>\n",
       "      <th>4737</th>\n",
       "      <td>Sunnyvale</td>\n",
       "      <td>None</td>\n",
       "      <td>None</td>\n",
       "      <td>37.3746414</td>\n",
       "      <td>-122.0571060</td>\n",
       "      <td>None</td>\n",
       "      <td></td>\n",
       "      <td>I</td>\n",
       "      <td>starbird chicken</td>\n",
       "      <td>https://www.zagat.com/r/starbird-chicken-sunny...</td>\n",
       "      <td>0.0</td>\n",
       "      <td>0.0</td>\n",
       "      <td>0.0</td>\n",
       "      <td>NaN</td>\n",
       "      <td>NaN</td>\n",
       "    </tr>\n",
       "    <tr>\n",
       "      <th>4116</th>\n",
       "      <td>Berkeley</td>\n",
       "      <td>None</td>\n",
       "      <td>None</td>\n",
       "      <td>37.8707657</td>\n",
       "      <td>-122.2929688</td>\n",
       "      <td>None</td>\n",
       "      <td></td>\n",
       "      <td>I</td>\n",
       "      <td>albatross pub</td>\n",
       "      <td>https://www.zagat.com/r/the-albatross-pub-berk...</td>\n",
       "      <td>0.0</td>\n",
       "      <td>0.0</td>\n",
       "      <td>0.0</td>\n",
       "      <td>NaN</td>\n",
       "      <td>NaN</td>\n",
       "    </tr>\n",
       "    <tr>\n",
       "      <th>637</th>\n",
       "      <td>Corona</td>\n",
       "      <td>19</td>\n",
       "      <td>None</td>\n",
       "      <td>40.7462769</td>\n",
       "      <td>-73.8599777</td>\n",
       "      <td>Corona</td>\n",
       "      <td></td>\n",
       "      <td>M</td>\n",
       "      <td>leo's latticini</td>\n",
       "      <td>https://www.zagat.com/r/leos-latticini-new-york</td>\n",
       "      <td>4.4</td>\n",
       "      <td>3.2</td>\n",
       "      <td>4.0</td>\n",
       "      <td>NaN</td>\n",
       "      <td>NaN</td>\n",
       "    </tr>\n",
       "    <tr>\n",
       "      <th>2672</th>\n",
       "      <td>New York</td>\n",
       "      <td>None</td>\n",
       "      <td>None</td>\n",
       "      <td>40.8239975</td>\n",
       "      <td>-73.9493484</td>\n",
       "      <td>Hamilton Heights</td>\n",
       "      <td></td>\n",
       "      <td>M</td>\n",
       "      <td>hogshead tavern</td>\n",
       "      <td>https://www.zagat.com/r/hogshead-tavern-new-york</td>\n",
       "      <td>0.0</td>\n",
       "      <td>0.0</td>\n",
       "      <td>0.0</td>\n",
       "      <td>NaN</td>\n",
       "      <td>NaN</td>\n",
       "    </tr>\n",
       "    <tr>\n",
       "      <th>4239</th>\n",
       "      <td>San Francisco</td>\n",
       "      <td>None</td>\n",
       "      <td>None</td>\n",
       "      <td>37.7381554</td>\n",
       "      <td>-122.3806534</td>\n",
       "      <td>Bayview-Hunters Point</td>\n",
       "      <td></td>\n",
       "      <td>I</td>\n",
       "      <td>speakeasy ales lagers</td>\n",
       "      <td>https://www.zagat.com/r/speakeasy-ales-lagers-...</td>\n",
       "      <td>0.0</td>\n",
       "      <td>0.0</td>\n",
       "      <td>0.0</td>\n",
       "      <td>NaN</td>\n",
       "      <td>NaN</td>\n",
       "    </tr>\n",
       "    <tr>\n",
       "      <th>4489</th>\n",
       "      <td>San Francisco</td>\n",
       "      <td>None</td>\n",
       "      <td>None</td>\n",
       "      <td>37.7894516</td>\n",
       "      <td>-122.3998108</td>\n",
       "      <td>SoMa</td>\n",
       "      <td></td>\n",
       "      <td>I</td>\n",
       "      <td>dabba</td>\n",
       "      <td>https://www.zagat.com/r/dabba-san-francisco</td>\n",
       "      <td>0.0</td>\n",
       "      <td>0.0</td>\n",
       "      <td>0.0</td>\n",
       "      <td>NaN</td>\n",
       "      <td>NaN</td>\n",
       "    </tr>\n",
       "    <tr>\n",
       "      <th>4669</th>\n",
       "      <td>San Francisco</td>\n",
       "      <td>None</td>\n",
       "      <td>None</td>\n",
       "      <td>37.7649040</td>\n",
       "      <td>-122.4243011</td>\n",
       "      <td>The Mission</td>\n",
       "      <td></td>\n",
       "      <td>M</td>\n",
       "      <td>elixir</td>\n",
       "      <td>https://www.zagat.com/r/elixir-san-francisco</td>\n",
       "      <td>0.0</td>\n",
       "      <td>0.0</td>\n",
       "      <td>0.0</td>\n",
       "      <td>NaN</td>\n",
       "      <td>NaN</td>\n",
       "    </tr>\n",
       "  </tbody>\n",
       "</table>\n",
       "</div>"
      ],
      "text/plain": [
       "          addr_city  cost cuisine    latitude     longitude  \\\n",
       "2252       New York  None    None  40.7647171   -73.9915619   \n",
       "2659  Staten Island  None    None  40.6005249   -74.0922623   \n",
       "1395  Staten Island    53    None  40.5876961   -74.1969452   \n",
       "4737      Sunnyvale  None    None  37.3746414  -122.0571060   \n",
       "4116       Berkeley  None    None  37.8707657  -122.2929688   \n",
       "637          Corona    19    None  40.7462769   -73.8599777   \n",
       "2672       New York  None    None  40.8239975   -73.9493484   \n",
       "4239  San Francisco  None    None  37.7381554  -122.3806534   \n",
       "4489  San Francisco  None    None  37.7894516  -122.3998108   \n",
       "4669  San Francisco  None    None  37.7649040  -122.4243011   \n",
       "\n",
       "               neighborhood open_table price_level  \\\n",
       "2252               West 50s                      M   \n",
       "2659               Grasmere                      M   \n",
       "1395         Travis-Chelsea                      E   \n",
       "4737                   None                      I   \n",
       "4116                   None                      I   \n",
       "637                  Corona                      M   \n",
       "2672       Hamilton Heights                      M   \n",
       "4239  Bayview-Hunters Point                      I   \n",
       "4489                   SoMa                      I   \n",
       "4669            The Mission                      M   \n",
       "\n",
       "                            title  \\\n",
       "2252                    as is nyc   \n",
       "2659              pastosa ravioli   \n",
       "1395  da noi on victory boulevard   \n",
       "4737             starbird chicken   \n",
       "4116                albatross pub   \n",
       "637               leo's latticini   \n",
       "2672              hogshead tavern   \n",
       "4239        speakeasy ales lagers   \n",
       "4489                        dabba   \n",
       "4669                       elixir   \n",
       "\n",
       "                                                    url  food  decor  service  \\\n",
       "2252         https://www.zagat.com/r/as-is-nyc-new-york   0.0    0.0      0.0   \n",
       "2659  https://www.zagat.com/r/pastosa-ravioli-new-york2   0.0    0.0      0.0   \n",
       "1395            https://www.zagat.com/r/da-noi-new-york   4.2    3.8      4.1   \n",
       "4737  https://www.zagat.com/r/starbird-chicken-sunny...   0.0    0.0      0.0   \n",
       "4116  https://www.zagat.com/r/the-albatross-pub-berk...   0.0    0.0      0.0   \n",
       "637     https://www.zagat.com/r/leos-latticini-new-york   4.4    3.2      4.0   \n",
       "2672   https://www.zagat.com/r/hogshead-tavern-new-york   0.0    0.0      0.0   \n",
       "4239  https://www.zagat.com/r/speakeasy-ales-lagers-...   0.0    0.0      0.0   \n",
       "4489        https://www.zagat.com/r/dabba-san-francisco   0.0    0.0      0.0   \n",
       "4669       https://www.zagat.com/r/elixir-san-francisco   0.0    0.0      0.0   \n",
       "\n",
       "     address  stars  \n",
       "2252     NaN    NaN  \n",
       "2659     NaN    NaN  \n",
       "1395     NaN    NaN  \n",
       "4737     NaN    NaN  \n",
       "4116     NaN    NaN  \n",
       "637      NaN    NaN  \n",
       "2672     NaN    NaN  \n",
       "4239     NaN    NaN  \n",
       "4489     NaN    NaN  \n",
       "4669     NaN    NaN  "
      ]
     },
     "execution_count": 36,
     "metadata": {},
     "output_type": "execute_result"
    }
   ],
   "source": [
    "# Looking at a random sample of the restaurants with no cuisine...most, no Zagat ratings (still on Zagat, just no ratings)\n",
    "training[training.cuisine.isnull()==True].sample(10)"
   ]
  },
  {
   "cell_type": "code",
   "execution_count": 115,
   "metadata": {
    "collapsed": false
   },
   "outputs": [
    {
     "data": {
      "text/plain": [
       "stars  cuisine     \n",
       "1.0    NaN             14\n",
       "       American        14\n",
       "       New American    12\n",
       "       French          10\n",
       "       Japanese         9\n",
       "       Italian          5\n",
       "       Sushi            5\n",
       "       Thai             4\n",
       "       Indian           3\n",
       "       Spanish          3\n",
       "       British          2\n",
       "       Californian      2\n",
       "       European         2\n",
       "       Mexican          2\n",
       "       Steakhouse       2\n",
       "       Austrian         1\n",
       "       Chinese          1\n",
       "       Eclectic         1\n",
       "       Moroccan         1\n",
       "       New Zealand      1\n",
       "       Portuguese       1\n",
       "       Seafood          1\n",
       "2.0    New American     4\n",
       "       French           3\n",
       "       NaN              2\n",
       "       Italian          2\n",
       "       Japanese         2\n",
       "       American         1\n",
       "       Californian      1\n",
       "       Korean           1\n",
       "       Scandinavian     1\n",
       "3.0    NaN              3\n",
       "       French           3\n",
       "       New American     2\n",
       "       American         1\n",
       "       Japanese         1\n",
       "       Seafood          1\n",
       "Name: cuisine, dtype: int64"
      ]
     },
     "execution_count": 115,
     "metadata": {},
     "output_type": "execute_result"
    }
   ],
   "source": [
    "# Looking at star ratings by cuisine (although really, I'd want to compare to overall distribution of these cuisines)\n",
    "training.groupby(training.stars, as_index=True).cuisine.value_counts(dropna = False)"
   ]
  },
  {
   "cell_type": "code",
   "execution_count": 808,
   "metadata": {
    "collapsed": false
   },
   "outputs": [
    {
     "data": {
      "text/plain": [
       "<matplotlib.axes._subplots.AxesSubplot at 0x175743b0>"
      ]
     },
     "execution_count": 808,
     "metadata": {},
     "output_type": "execute_result"
    },
    {
     "data": {
      "image/png": "[encoded data removed]",
      "text/plain": [
       "<matplotlib.figure.Figure at 0x17574e90>"
      ]
     },
     "metadata": {},
     "output_type": "display_data"
    }
   ],
   "source": [
    "#plotting the 20 most frequent cuisines overall\n",
    "training.cuisine.value_counts(dropna=False)[0:20].plot(kind='barh')"
   ]
  },
  {
   "cell_type": "code",
   "execution_count": 890,
   "metadata": {
    "collapsed": false
   },
   "outputs": [
    {
     "data": {
      "image/png": "[encoded data removed]",
      "text/plain": [
       "<matplotlib.figure.Figure at 0x1c01b710>"
      ]
     },
     "metadata": {},
     "output_type": "display_data"
    }
   ],
   "source": [
    "#comparing the charts, new american looks over-represented among Michelin stars, as do French and Japanese - Italian \n",
    "#is underrepresented \n",
    "fig, ax1 = plt.subplots(figsize=(10,8))\n",
    "training[training.stars>0].cuisine.value_counts().plot(kind='barh', fontsize=14, color='royalblue')\n",
    "\n",
    "ax1.set_title('Michelin Star Cuisine Types (SF & NYC, N=105)', fontsize=14)\n",
    "ax1.set_xlabel('Number of Restaurants', fontsize=14)\n",
    "ax1.invert_yaxis()\n",
    "ax1.set_xlim([0,20])\n",
    "plt.savefig('../cuisine.png')"
   ]
  },
  {
   "cell_type": "code",
   "execution_count": 37,
   "metadata": {
    "collapsed": false
   },
   "outputs": [
    {
     "data": {
      "text/plain": [
       "10"
      ]
     },
     "execution_count": 37,
     "metadata": {},
     "output_type": "execute_result"
    }
   ],
   "source": [
    "# open_table isn't reading in as null when it is missing\n",
    "training.open_table.isnull().sum()"
   ]
  },
  {
   "cell_type": "code",
   "execution_count": 40,
   "metadata": {
    "collapsed": false
   },
   "outputs": [
    {
     "data": {
      "text/plain": [
       "3153"
      ]
     },
     "execution_count": 40,
     "metadata": {},
     "output_type": "execute_result"
    }
   ],
   "source": [
    "# So actually, majority of restaurants don't have an open_table link\n",
    "training[training.open_table == ''].open_table.count()"
   ]
  },
  {
   "cell_type": "code",
   "execution_count": 43,
   "metadata": {
    "collapsed": false
   },
   "outputs": [
    {
     "data": {
      "text/html": [
       "<div>\n",
       "<table border=\"1\" class=\"dataframe\">\n",
       "  <thead>\n",
       "    <tr style=\"text-align: right;\">\n",
       "      <th></th>\n",
       "      <th>addr_city</th>\n",
       "      <th>cost</th>\n",
       "      <th>cuisine</th>\n",
       "      <th>latitude</th>\n",
       "      <th>longitude</th>\n",
       "      <th>neighborhood</th>\n",
       "      <th>open_table</th>\n",
       "      <th>price_level</th>\n",
       "      <th>title</th>\n",
       "      <th>url</th>\n",
       "      <th>food</th>\n",
       "      <th>decor</th>\n",
       "      <th>service</th>\n",
       "      <th>address</th>\n",
       "      <th>stars</th>\n",
       "    </tr>\n",
       "  </thead>\n",
       "  <tbody>\n",
       "    <tr>\n",
       "      <th>4782</th>\n",
       "      <td>Santa Cruz</td>\n",
       "      <td>None</td>\n",
       "      <td>American</td>\n",
       "      <td>36.9608040</td>\n",
       "      <td>-122.0210266</td>\n",
       "      <td>None</td>\n",
       "      <td></td>\n",
       "      <td>M</td>\n",
       "      <td>splash</td>\n",
       "      <td>https://www.zagat.com/r/splash-santa-cruz</td>\n",
       "      <td>0.0</td>\n",
       "      <td>0.0</td>\n",
       "      <td>0.0</td>\n",
       "      <td>NaN</td>\n",
       "      <td>NaN</td>\n",
       "    </tr>\n",
       "    <tr>\n",
       "      <th>180</th>\n",
       "      <td>Staten Island</td>\n",
       "      <td>6</td>\n",
       "      <td>Ice Cream Shop</td>\n",
       "      <td>40.5238762</td>\n",
       "      <td>-74.2149582</td>\n",
       "      <td>Prince's Bay</td>\n",
       "      <td></td>\n",
       "      <td>I</td>\n",
       "      <td>ralph's famous italian ices</td>\n",
       "      <td>https://www.zagat.com/r/ralphs-famous-italian-...</td>\n",
       "      <td>4.5</td>\n",
       "      <td>3.0</td>\n",
       "      <td>4.0</td>\n",
       "      <td>NaN</td>\n",
       "      <td>NaN</td>\n",
       "    </tr>\n",
       "    <tr>\n",
       "      <th>3163</th>\n",
       "      <td>Mountain View</td>\n",
       "      <td>37</td>\n",
       "      <td>Indian</td>\n",
       "      <td>37.3850784</td>\n",
       "      <td>-122.0820618</td>\n",
       "      <td>None</td>\n",
       "      <td></td>\n",
       "      <td>M</td>\n",
       "      <td>amber cafe</td>\n",
       "      <td>https://www.zagat.com/r/amber-cafe-mountain-view</td>\n",
       "      <td>4.4</td>\n",
       "      <td>4.2</td>\n",
       "      <td>4.1</td>\n",
       "      <td>NaN</td>\n",
       "      <td>NaN</td>\n",
       "    </tr>\n",
       "    <tr>\n",
       "      <th>188</th>\n",
       "      <td>New York</td>\n",
       "      <td>34</td>\n",
       "      <td>Vegan</td>\n",
       "      <td>40.7451019</td>\n",
       "      <td>-73.9975586</td>\n",
       "      <td>Chelsea</td>\n",
       "      <td></td>\n",
       "      <td>I</td>\n",
       "      <td>blossom du jour</td>\n",
       "      <td>https://www.zagat.com/r/blossom-du-jour-new-york4</td>\n",
       "      <td>4.5</td>\n",
       "      <td>3.8</td>\n",
       "      <td>4.1</td>\n",
       "      <td>NaN</td>\n",
       "      <td>NaN</td>\n",
       "    </tr>\n",
       "    <tr>\n",
       "      <th>557</th>\n",
       "      <td>New York</td>\n",
       "      <td>35</td>\n",
       "      <td>Italian</td>\n",
       "      <td>40.7328491</td>\n",
       "      <td>-74.0084305</td>\n",
       "      <td>West Village</td>\n",
       "      <td></td>\n",
       "      <td>M</td>\n",
       "      <td>malatesta trattoria</td>\n",
       "      <td>https://www.zagat.com/r/malatesta-trattoria-ne...</td>\n",
       "      <td>4.4</td>\n",
       "      <td>3.6</td>\n",
       "      <td>4.1</td>\n",
       "      <td>NaN</td>\n",
       "      <td>NaN</td>\n",
       "    </tr>\n",
       "  </tbody>\n",
       "</table>\n",
       "</div>"
      ],
      "text/plain": [
       "          addr_city  cost         cuisine    latitude     longitude  \\\n",
       "4782     Santa Cruz  None        American  36.9608040  -122.0210266   \n",
       "180   Staten Island     6  Ice Cream Shop  40.5238762   -74.2149582   \n",
       "3163  Mountain View    37          Indian  37.3850784  -122.0820618   \n",
       "188        New York    34           Vegan  40.7451019   -73.9975586   \n",
       "557        New York    35         Italian  40.7328491   -74.0084305   \n",
       "\n",
       "      neighborhood open_table price_level                        title  \\\n",
       "4782          None                      M                       splash   \n",
       "180   Prince's Bay                      I  ralph's famous italian ices   \n",
       "3163          None                      M                   amber cafe   \n",
       "188        Chelsea                      I              blossom du jour   \n",
       "557   West Village                      M          malatesta trattoria   \n",
       "\n",
       "                                                    url  food  decor  service  \\\n",
       "4782          https://www.zagat.com/r/splash-santa-cruz   0.0    0.0      0.0   \n",
       "180   https://www.zagat.com/r/ralphs-famous-italian-...   4.5    3.0      4.0   \n",
       "3163   https://www.zagat.com/r/amber-cafe-mountain-view   4.4    4.2      4.1   \n",
       "188   https://www.zagat.com/r/blossom-du-jour-new-york4   4.5    3.8      4.1   \n",
       "557   https://www.zagat.com/r/malatesta-trattoria-ne...   4.4    3.6      4.1   \n",
       "\n",
       "     address  stars  \n",
       "4782     NaN    NaN  \n",
       "180      NaN    NaN  \n",
       "3163     NaN    NaN  \n",
       "188      NaN    NaN  \n",
       "557      NaN    NaN  "
      ]
     },
     "execution_count": 43,
     "metadata": {},
     "output_type": "execute_result"
    }
   ],
   "source": [
    "# Nothing immediately jumps out about them\n",
    "training[training.open_table == ''].sample(5)"
   ]
  },
  {
   "cell_type": "code",
   "execution_count": 98,
   "metadata": {
    "collapsed": false
   },
   "outputs": [
    {
     "data": {
      "text/plain": [
       "open_table  price_level\n",
       "False       E              0.459841\n",
       "            M              0.432250\n",
       "            VE             0.090742\n",
       "            I              0.017167\n",
       "True        M              0.478597\n",
       "            I              0.402961\n",
       "            E              0.097522\n",
       "            VE             0.020921\n",
       "Name: price_level, dtype: float64"
      ]
     },
     "execution_count": 98,
     "metadata": {},
     "output_type": "execute_result"
    }
   ],
   "source": [
    "# It could be that very expensive or very inexpensive restaurants aren't on open table, let's see:\n",
    "training.groupby(training.open_table ==\"\", as_index=True).price_level.value_counts(normalize=True)"
   ]
  },
  {
   "cell_type": "code",
   "execution_count": 860,
   "metadata": {
    "collapsed": false
   },
   "outputs": [
    {
     "data": {
      "text/plain": [
       "open_table  stars\n",
       "False       NaN      1556\n",
       "            1.0        63\n",
       "            2.0        10\n",
       "            3.0         8\n",
       "True        NaN      3120\n",
       "            1.0        24\n",
       "            2.0         7\n",
       "            3.0         2\n",
       "Name: stars, dtype: int64"
      ]
     },
     "execution_count": 860,
     "metadata": {},
     "output_type": "execute_result"
    }
   ],
   "source": [
    "# But actually, a disproportionate number of star restaurants are on open table (open_table =='' is false)\n",
    "training.groupby(training.open_table ==\"\", as_index=True).stars.value_counts(dropna = False)"
   ]
  },
  {
   "cell_type": "code",
   "execution_count": 198,
   "metadata": {
    "collapsed": false
   },
   "outputs": [
    {
     "data": {
      "text/plain": [
       "<matplotlib.axes._subplots.AxesSubplot at 0x1211ba70>"
      ]
     },
     "execution_count": 198,
     "metadata": {},
     "output_type": "execute_result"
    },
    {
     "data": {
      "image/png": "[encoded data removed]",
      "text/plain": [
       "<matplotlib.figure.Figure at 0x12128250>"
      ]
     },
     "metadata": {},
     "output_type": "display_data"
    }
   ],
   "source": [
    "# Most restaurants are at the Medium price, with some inexpensive, some expensive, and a few VE \n",
    "training.price_level.value_counts(dropna=False).plot(kind='bar')"
   ]
  },
  {
   "cell_type": "code",
   "execution_count": 143,
   "metadata": {
    "collapsed": false
   },
   "outputs": [
    {
     "data": {
      "text/plain": [
       "<matplotlib.axes._subplots.AxesSubplot at 0xd1d0610>"
      ]
     },
     "execution_count": 143,
     "metadata": {},
     "output_type": "execute_result"
    },
    {
     "data": {
      "image/png": "[encoded data removed]",
      "text/plain": [
       "<matplotlib.figure.Figure at 0xd1dc3d0>"
      ]
     },
     "metadata": {},
     "output_type": "display_data"
    }
   ],
   "source": [
    "# as we would predict from the categories, price is skewed right (graph cut off at 125 for visibility)\n",
    "training[training.cost <125].cost.hist()"
   ]
  },
  {
   "cell_type": "code",
   "execution_count": 144,
   "metadata": {
    "collapsed": false
   },
   "outputs": [
    {
     "data": {
      "text/plain": [
       "<matplotlib.axes._subplots.AxesSubplot at 0xd264f90>"
      ]
     },
     "execution_count": 144,
     "metadata": {},
     "output_type": "execute_result"
    },
    {
     "data": {
      "image/png": "[encoded data removed]",
      "text/plain": [
       "<matplotlib.figure.Figure at 0xd39b690>"
      ]
     },
     "metadata": {},
     "output_type": "display_data"
    }
   ],
   "source": [
    "# Filtering for stars > 0... these are mostly VE (and none is Inexpensive)\n",
    "training[training.stars>0].price_level.value_counts(dropna=False).plot(kind = 'bar')"
   ]
  },
  {
   "cell_type": "code",
   "execution_count": 872,
   "metadata": {
    "collapsed": true
   },
   "outputs": [],
   "source": [
    "import matplotlib.patches as mpatches"
   ]
  },
  {
   "cell_type": "code",
   "execution_count": 889,
   "metadata": {
    "collapsed": false
   },
   "outputs": [
    {
     "data": {
      "image/png": "[encoded data removed]",
      "text/plain": [
       "<matplotlib.figure.Figure at 0x1e2a12b0>"
      ]
     },
     "metadata": {},
     "output_type": "display_data"
    }
   ],
   "source": [
    "# Histogram for cost of star restaurants\n",
    "fig, ax = plt.subplots(figsize=(10,6))\n",
    "#fig = plt.figure()\n",
    "#ax = fig.add_subplot(111)\n",
    "Zagat = training.cost.hist(normed=True, alpha=.7, color='darkblue')\n",
    "Michelin = training[training.stars>0].cost.hist(normed=True, alpha=.7, color='royalblue')\n",
    "ax.set_title('Relative Cost of Restaurants', fontsize=14)\n",
    "ax.set_ylabel('', fontsize=14)\n",
    "ax.set_xlabel('Cost in Dollars', fontsize=14)\n",
    "ax.grid(False)\n",
    "ax.set_xlim([0,400])\n",
    "\n",
    "allr = mpatches.Patch(color='darkblue', alpha=.7, label='All Restaurants')\n",
    "mich = mpatches.Patch(color='royalblue', alpha=.7, label='Michelin Restaurants')\n",
    "plt.legend(handles=[allr, mich])\n",
    "\n",
    "cur_axes = plt.gca()\n",
    "cur_axes.axes.get_yaxis().set_ticks([])\n",
    "\n",
    "\n",
    "\n",
    "plt.savefig('../cost.png')\n",
    "\n",
    "\n"
   ]
  },
  {
   "cell_type": "code",
   "execution_count": 158,
   "metadata": {
    "collapsed": false
   },
   "outputs": [
    {
     "data": {
      "text/plain": [
       "<matplotlib.axes._subplots.AxesSubplot at 0xe1d6350>"
      ]
     },
     "execution_count": 158,
     "metadata": {},
     "output_type": "execute_result"
    },
    {
     "data": {
      "image/png": "[encoded data removed]",
      "text/plain": [
       "<matplotlib.figure.Figure at 0xe3021f0>"
      ]
     },
     "metadata": {},
     "output_type": "display_data"
    }
   ],
   "source": [
    "training[training.food>0].food.hist()"
   ]
  },
  {
   "cell_type": "code",
   "execution_count": 157,
   "metadata": {
    "collapsed": false
   },
   "outputs": [
    {
     "name": "stderr",
     "output_type": "stream",
     "text": [
      "C:\\Users\\elynchklarup\\AppData\\Local\\Continuum\\Anaconda2_take2\\lib\\site-packages\\ipykernel\\__main__.py:1: UserWarning: Boolean Series key will be reindexed to match DataFrame index.\n",
      "  if __name__ == '__main__':\n"
     ]
    },
    {
     "data": {
      "text/plain": [
       "<matplotlib.axes._subplots.AxesSubplot at 0xe185310>"
      ]
     },
     "execution_count": 157,
     "metadata": {},
     "output_type": "execute_result"
    },
    {
     "data": {
      "image/png": "[encoded data removed]",
      "text/plain": [
       "<matplotlib.figure.Figure at 0xe185cd0>"
      ]
     },
     "metadata": {},
     "output_type": "display_data"
    }
   ],
   "source": [
    "training[training.food>0][training.stars>0].food.hist()"
   ]
  },
  {
   "cell_type": "code",
   "execution_count": 701,
   "metadata": {
    "collapsed": false
   },
   "outputs": [
    {
     "data": {
      "text/plain": [
       "stars  food\n",
       "1.0    4.6     21\n",
       "       4.5     15\n",
       "       4.4     14\n",
       "       4.7     14\n",
       "       4.8      6\n",
       "       4.3      5\n",
       "       4.2      4\n",
       "       3.8      1\n",
       "       4.9      1\n",
       "2.0    4.6      8\n",
       "       4.7      3\n",
       "       4.4      2\n",
       "       4.5      2\n",
       "       4.9      2\n",
       "3.0    4.8      4\n",
       "       4.6      3\n",
       "       4.9      2\n",
       "       4.7      1\n",
       "Name: food, dtype: int64"
      ]
     },
     "execution_count": 701,
     "metadata": {},
     "output_type": "execute_result"
    }
   ],
   "source": [
    "# Higher stars are associated with higher ratings...\n",
    "training[training.food>0].groupby(training.stars).food.value_counts()"
   ]
  },
  {
   "cell_type": "code",
   "execution_count": 703,
   "metadata": {
    "collapsed": false
   },
   "outputs": [
    {
     "data": {
      "text/plain": [
       "stars  service\n",
       "1.0    4.4        18\n",
       "       4.5        13\n",
       "       4.2        10\n",
       "       4.3         9\n",
       "       4.7         9\n",
       "       4.6         8\n",
       "       4.1         6\n",
       "       4.0         3\n",
       "       3.9         2\n",
       "       3.8         1\n",
       "       4.8         1\n",
       "       4.9         1\n",
       "2.0    4.6         6\n",
       "       4.4         3\n",
       "       4.5         3\n",
       "       4.8         2\n",
       "       3.9         1\n",
       "       4.7         1\n",
       "       4.9         1\n",
       "3.0    4.8         6\n",
       "       4.5         2\n",
       "       4.7         1\n",
       "       4.9         1\n",
       "Name: service, dtype: int64"
      ]
     },
     "execution_count": 703,
     "metadata": {},
     "output_type": "execute_result"
    }
   ],
   "source": [
    "training[training.service>0].groupby(training.stars).service.value_counts()"
   ]
  },
  {
   "cell_type": "code",
   "execution_count": 704,
   "metadata": {
    "collapsed": false
   },
   "outputs": [
    {
     "data": {
      "text/plain": [
       "stars  decor\n",
       "1.0    4.4      13\n",
       "       4.2      11\n",
       "       4.0       9\n",
       "       4.1       9\n",
       "       4.6       8\n",
       "       4.3       7\n",
       "       3.8       5\n",
       "       4.5       5\n",
       "       3.7       3\n",
       "       3.9       3\n",
       "       4.8       3\n",
       "       4.7       2\n",
       "       3.5       1\n",
       "       3.6       1\n",
       "2.0    4.5       4\n",
       "       4.1       3\n",
       "       4.6       3\n",
       "       4.8       2\n",
       "       3.6       1\n",
       "       4.2       1\n",
       "       4.3       1\n",
       "       4.4       1\n",
       "       4.7       1\n",
       "3.0    4.8       4\n",
       "       4.7       3\n",
       "       3.9       1\n",
       "       4.4       1\n",
       "       4.6       1\n",
       "Name: decor, dtype: int64"
      ]
     },
     "execution_count": 704,
     "metadata": {},
     "output_type": "execute_result"
    }
   ],
   "source": [
    "training[training.decor>0].groupby(training.stars).decor.value_counts()"
   ]
  },
  {
   "cell_type": "code",
   "execution_count": 173,
   "metadata": {
    "collapsed": false
   },
   "outputs": [
    {
     "name": "stdout",
     "output_type": "stream",
     "text": [
      "food \n",
      "stars\n",
      "1.0    4.534568\n",
      "2.0    4.617647\n",
      "3.0    4.750000\n",
      "Name: food, dtype: float64 \n",
      "\n",
      "decor \n",
      "stars\n",
      "1.0    4.177778\n",
      "2.0    4.405882\n",
      "3.0    4.620000\n",
      "Name: decor, dtype: float64 \n",
      "\n",
      "service \n",
      "stars\n",
      "1.0    4.387654\n",
      "2.0    4.552941\n",
      "3.0    4.740000\n",
      "Name: service, dtype: float64 \n",
      "\n"
     ]
    }
   ],
   "source": [
    "# Service and Decor seem to make bigger jumps than Food, as we go up in stars,\n",
    "# However! Zagat ratings are actually ordinal, plus population size gets very small at 2 & 3 stars\n",
    "zvar = ['food','decor', 'service']\n",
    "for i in zvar:\n",
    "    print i, '\\n', training[training.food>0].groupby(training.stars)[i].mean(),'\\n'"
   ]
  },
  {
   "cell_type": "code",
   "execution_count": 888,
   "metadata": {
    "collapsed": false
   },
   "outputs": [
    {
     "data": {
      "image/png": "[encoded data removed]",
      "text/plain": [
       "<matplotlib.figure.Figure at 0x1c084d70>"
      ]
     },
     "metadata": {},
     "output_type": "display_data"
    }
   ],
   "source": [
    "#Food is skewed left - we're hitting the boundary at 5\n",
    "\n",
    "# Histogram for cost of star restaurants\n",
    "fig, ax = plt.subplots(figsize=(10,6))\n",
    "\n",
    "\n",
    "training[(training.food>0)].food.hist(normed=True, alpha=.7, color='darkblue')\n",
    "training[(training.food>0) & (training.stars>0)].food.hist(normed=True, alpha=.7, color='royalblue')\n",
    "ax.set_title('Food Ratings (NYC & SF)', fontsize=14)\n",
    "ax.set_ylabel('', fontsize=14)\n",
    "ax.set_xlabel('Zagat Food Score', fontsize=14)\n",
    "ax.grid(False)\n",
    "#ax.set_xlim([0,400])\n",
    "\n",
    "allr = mpatches.Patch(color='darkblue', alpha=.7, label='All Restaurants')\n",
    "mich = mpatches.Patch(color='royalblue', alpha=.7, label='Michelin Restaurants')\n",
    "plt.legend(handles=[allr, mich], loc='upper left')\n",
    "\n",
    "cur_axes = plt.gca()\n",
    "cur_axes.axes.get_yaxis().set_ticks([])\n",
    "\n",
    "\n",
    "\n",
    "\n",
    "plt.savefig('../foodratings.png')\n",
    "\n"
   ]
  },
  {
   "cell_type": "code",
   "execution_count": 192,
   "metadata": {
    "collapsed": false
   },
   "outputs": [
    {
     "data": {
      "text/plain": [
       "<matplotlib.axes._subplots.AxesSubplot at 0x11a34130>"
      ]
     },
     "execution_count": 192,
     "metadata": {},
     "output_type": "execute_result"
    },
    {
     "data": {
      "image/png": "[encoded data removed]",
      "text/plain": [
       "<matplotlib.figure.Figure at 0x11a34d30>"
      ]
     },
     "metadata": {},
     "output_type": "display_data"
    }
   ],
   "source": [
    "#Here's my 10 3-star restaurants \n",
    "training[(training.food>3) & (training.stars>2)].food.hist()"
   ]
  },
  {
   "cell_type": "code",
   "execution_count": 176,
   "metadata": {
    "collapsed": false
   },
   "outputs": [
    {
     "data": {
      "text/plain": [
       "<matplotlib.axes._subplots.AxesSubplot at 0xe02c1f0>"
      ]
     },
     "execution_count": 176,
     "metadata": {},
     "output_type": "execute_result"
    },
    {
     "data": {
      "image/png": "[encoded data removed]",
      "text/plain": [
       "<matplotlib.figure.Figure at 0xe16c270>"
      ]
     },
     "metadata": {},
     "output_type": "display_data"
    }
   ],
   "source": [
    "#Service really does look normally distributed\n",
    "training[training.service>0].service.hist()"
   ]
  },
  {
   "cell_type": "code",
   "execution_count": 177,
   "metadata": {
    "collapsed": false
   },
   "outputs": [
    {
     "data": {
      "text/plain": [
       "<matplotlib.axes._subplots.AxesSubplot at 0xe7e9d50>"
      ]
     },
     "execution_count": 177,
     "metadata": {},
     "output_type": "execute_result"
    },
    {
     "data": {
      "image/png": "[encoded data removed]",
      "text/plain": [
       "<matplotlib.figure.Figure at 0x103b4cb0>"
      ]
     },
     "metadata": {},
     "output_type": "display_data"
    }
   ],
   "source": [
    "#Decor\n",
    "training[training.decor>0].decor.hist()"
   ]
  },
  {
   "cell_type": "code",
   "execution_count": 199,
   "metadata": {
    "collapsed": false
   },
   "outputs": [
    {
     "data": {
      "text/html": [
       "<div>\n",
       "<table border=\"1\" class=\"dataframe\">\n",
       "  <thead>\n",
       "    <tr style=\"text-align: right;\">\n",
       "      <th></th>\n",
       "      <th>addr_city</th>\n",
       "      <th>cost</th>\n",
       "      <th>cuisine</th>\n",
       "      <th>latitude</th>\n",
       "      <th>longitude</th>\n",
       "      <th>neighborhood</th>\n",
       "      <th>open_table</th>\n",
       "      <th>price_level</th>\n",
       "      <th>title</th>\n",
       "      <th>url</th>\n",
       "      <th>food</th>\n",
       "      <th>decor</th>\n",
       "      <th>service</th>\n",
       "      <th>address</th>\n",
       "      <th>stars</th>\n",
       "    </tr>\n",
       "  </thead>\n",
       "  <tbody>\n",
       "    <tr>\n",
       "      <th>0</th>\n",
       "      <td>New York</td>\n",
       "      <td>176</td>\n",
       "      <td>French</td>\n",
       "      <td>40.7667732</td>\n",
       "      <td>-73.9676056</td>\n",
       "      <td>East 60s</td>\n",
       "      <td></td>\n",
       "      <td>VE</td>\n",
       "      <td>daniel</td>\n",
       "      <td>https://www.zagat.com/r/daniel-new-york</td>\n",
       "      <td>4.9</td>\n",
       "      <td>4.8</td>\n",
       "      <td>4.9</td>\n",
       "      <td>60 E. 65th St., New York 10065</td>\n",
       "      <td>2.0</td>\n",
       "    </tr>\n",
       "    <tr>\n",
       "      <th>1</th>\n",
       "      <td>New York</td>\n",
       "      <td>141</td>\n",
       "      <td>French</td>\n",
       "      <td>40.7169685</td>\n",
       "      <td>-74.0089569</td>\n",
       "      <td>TriBeCa</td>\n",
       "      <td>http://www.opentable.com/restaurant/profile/29...</td>\n",
       "      <td>VE</td>\n",
       "      <td>bouley</td>\n",
       "      <td>https://www.zagat.com/r/bouley-restaurant-new-...</td>\n",
       "      <td>4.9</td>\n",
       "      <td>4.8</td>\n",
       "      <td>4.8</td>\n",
       "      <td>163 Duane St., New York 10013</td>\n",
       "      <td>1.0</td>\n",
       "    </tr>\n",
       "    <tr>\n",
       "      <th>2</th>\n",
       "      <td>New York</td>\n",
       "      <td>182</td>\n",
       "      <td>Seafood</td>\n",
       "      <td>40.7616959</td>\n",
       "      <td>-73.9818802</td>\n",
       "      <td>West 50s</td>\n",
       "      <td>http://www.opentable.com/restaurant/profile/25...</td>\n",
       "      <td>VE</td>\n",
       "      <td>le bernardin</td>\n",
       "      <td>https://www.zagat.com/r/le-bernardin-new-york</td>\n",
       "      <td>4.9</td>\n",
       "      <td>4.8</td>\n",
       "      <td>4.9</td>\n",
       "      <td>155 W. 51st St., New York 10019</td>\n",
       "      <td>3.0</td>\n",
       "    </tr>\n",
       "    <tr>\n",
       "      <th>3</th>\n",
       "      <td>New York</td>\n",
       "      <td>341</td>\n",
       "      <td>New American</td>\n",
       "      <td>40.7682533</td>\n",
       "      <td>-73.9829407</td>\n",
       "      <td>West 50s</td>\n",
       "      <td>http://www.opentable.com/restaurant/profile/27...</td>\n",
       "      <td>VE</td>\n",
       "      <td>per se</td>\n",
       "      <td>https://www.zagat.com/r/per-se-new-york</td>\n",
       "      <td>4.8</td>\n",
       "      <td>4.7</td>\n",
       "      <td>4.8</td>\n",
       "      <td>10 Columbus Circle, New York 10019</td>\n",
       "      <td>3.0</td>\n",
       "    </tr>\n",
       "    <tr>\n",
       "      <th>4</th>\n",
       "      <td>New York</td>\n",
       "      <td>58</td>\n",
       "      <td>Asian</td>\n",
       "      <td>40.7290497</td>\n",
       "      <td>-73.9856186</td>\n",
       "      <td>East Village</td>\n",
       "      <td></td>\n",
       "      <td>E</td>\n",
       "      <td>graffiti</td>\n",
       "      <td>https://www.zagat.com/r/graffiti-new-york</td>\n",
       "      <td>4.8</td>\n",
       "      <td>4.3</td>\n",
       "      <td>4.7</td>\n",
       "      <td>NaN</td>\n",
       "      <td>NaN</td>\n",
       "    </tr>\n",
       "  </tbody>\n",
       "</table>\n",
       "</div>"
      ],
      "text/plain": [
       "  addr_city cost       cuisine    latitude    longitude  neighborhood  \\\n",
       "0  New York  176        French  40.7667732  -73.9676056      East 60s   \n",
       "1  New York  141        French  40.7169685  -74.0089569       TriBeCa   \n",
       "2  New York  182       Seafood  40.7616959  -73.9818802      West 50s   \n",
       "3  New York  341  New American  40.7682533  -73.9829407      West 50s   \n",
       "4  New York   58         Asian  40.7290497  -73.9856186  East Village   \n",
       "\n",
       "                                          open_table price_level  \\\n",
       "0                                                             VE   \n",
       "1  http://www.opentable.com/restaurant/profile/29...          VE   \n",
       "2  http://www.opentable.com/restaurant/profile/25...          VE   \n",
       "3  http://www.opentable.com/restaurant/profile/27...          VE   \n",
       "4                                                              E   \n",
       "\n",
       "          title                                                url  food  \\\n",
       "0        daniel            https://www.zagat.com/r/daniel-new-york   4.9   \n",
       "1        bouley  https://www.zagat.com/r/bouley-restaurant-new-...   4.9   \n",
       "2  le bernardin      https://www.zagat.com/r/le-bernardin-new-york   4.9   \n",
       "3        per se            https://www.zagat.com/r/per-se-new-york   4.8   \n",
       "4      graffiti          https://www.zagat.com/r/graffiti-new-york   4.8   \n",
       "\n",
       "   decor  service                             address  stars  \n",
       "0    4.8      4.9      60 E. 65th St., New York 10065    2.0  \n",
       "1    4.8      4.8       163 Duane St., New York 10013    1.0  \n",
       "2    4.8      4.9     155 W. 51st St., New York 10019    3.0  \n",
       "3    4.7      4.8  10 Columbus Circle, New York 10019    3.0  \n",
       "4    4.3      4.7                                 NaN    NaN  "
      ]
     },
     "execution_count": 199,
     "metadata": {},
     "output_type": "execute_result"
    }
   ],
   "source": [
    "training.head()"
   ]
  },
  {
   "cell_type": "code",
   "execution_count": 211,
   "metadata": {
    "collapsed": false
   },
   "outputs": [
    {
     "name": "stdout",
     "output_type": "stream",
     "text": [
      "Axes(0.125,0.125;0.775x0.775)\n",
      "Axes(0.125,0.125;0.775x0.775)\n",
      "Axes(0.125,0.125;0.775x0.775)\n"
     ]
    },
    {
     "data": {
      "image/png": "[encoded data removed]",
      "text/plain": [
       "<matplotlib.figure.Figure at 0x13309630>"
      ]
     },
     "metadata": {},
     "output_type": "display_data"
    }
   ],
   "source": [
    "# Double checking distributions across datasets\n",
    "datasets = [nyc_zm, sf_zm, chicago_zm]\n",
    "for i in datasets:\n",
    "    print i[i.food>0].food.hist(normed=True)"
   ]
  },
  {
   "cell_type": "code",
   "execution_count": 212,
   "metadata": {
    "collapsed": false
   },
   "outputs": [
    {
     "data": {
      "text/plain": [
       "<matplotlib.axes._subplots.AxesSubplot at 0x1349bc90>"
      ]
     },
     "execution_count": 212,
     "metadata": {},
     "output_type": "execute_result"
    },
    {
     "data": {
      "image/png": "[encoded data removed]",
      "text/plain": [
       "<matplotlib.figure.Figure at 0x130fea50>"
      ]
     },
     "metadata": {},
     "output_type": "display_data"
    }
   ],
   "source": [
    "nyc_zm[nyc_zm.food>0].food.hist(normed=True)"
   ]
  },
  {
   "cell_type": "code",
   "execution_count": 213,
   "metadata": {
    "collapsed": false
   },
   "outputs": [
    {
     "data": {
      "text/plain": [
       "<matplotlib.axes._subplots.AxesSubplot at 0x133fa3f0>"
      ]
     },
     "execution_count": 213,
     "metadata": {},
     "output_type": "execute_result"
    },
    {
     "data": {
      "image/png": "[encoded data removed]",
      "text/plain": [
       "<matplotlib.figure.Figure at 0x134d0c70>"
      ]
     },
     "metadata": {},
     "output_type": "display_data"
    }
   ],
   "source": [
    "sf_zm[sf_zm.food>0].food.hist(normed=True)"
   ]
  },
  {
   "cell_type": "code",
   "execution_count": 214,
   "metadata": {
    "collapsed": false
   },
   "outputs": [
    {
     "data": {
      "text/plain": [
       "<matplotlib.axes._subplots.AxesSubplot at 0x134ebfb0>"
      ]
     },
     "execution_count": 214,
     "metadata": {},
     "output_type": "execute_result"
    },
    {
     "data": {
      "image/png": "[encoded data removed]",
      "text/plain": [
       "<matplotlib.figure.Figure at 0x13177cd0>"
      ]
     },
     "metadata": {},
     "output_type": "display_data"
    }
   ],
   "source": [
    "chicago_zm[chicago_zm.food>0].food.hist(normed=True)"
   ]
  },
  {
   "cell_type": "code",
   "execution_count": 215,
   "metadata": {
    "collapsed": false
   },
   "outputs": [
    {
     "data": {
      "text/plain": [
       "<matplotlib.axes._subplots.AxesSubplot at 0x1331db10>"
      ]
     },
     "execution_count": 215,
     "metadata": {},
     "output_type": "execute_result"
    },
    {
     "data": {
      "image/png": "[encoded data removed]",
      "text/plain": [
       "<matplotlib.figure.Figure at 0x12f42b70>"
      ]
     },
     "metadata": {},
     "output_type": "display_data"
    }
   ],
   "source": [
    "dc[dc.food>0].food.hist(normed=True)"
   ]
  },
  {
   "cell_type": "code",
   "execution_count": 236,
   "metadata": {
    "collapsed": false
   },
   "outputs": [
    {
     "name": "stdout",
     "output_type": "stream",
     "text": [
      "3.22949042284 4.2 1.83827444135 75 2771\n",
      "2.84483440435 4.2 2.05325289186 49 2029\n",
      "2.85610465116 4.3 2.10221852007 21 1376\n"
     ]
    }
   ],
   "source": [
    "# The averages vary a lot... DC does seem to have lower average ratings\n",
    "datasets = [nyc_zm, sf_zm, chicago_zm]\n",
    "for i in datasets:\n",
    "        print i['food'].mean(), i['food'].median(), i['food'].std(), i[i.stars>0]['stars'].count(), i.title.count()"
   ]
  },
  {
   "cell_type": "code",
   "execution_count": 240,
   "metadata": {
    "collapsed": false
   },
   "outputs": [
    {
     "name": "stdout",
     "output_type": "stream",
     "text": [
      "nyc 0.0270660411404\n",
      "sf 0.0241498275012\n",
      "chicago 0.015261627907\n"
     ]
    }
   ],
   "source": [
    "print 'nyc', 75/2771.00\n",
    "print 'sf', 49/2029.00\n",
    "print 'chicago', 21/1376.00"
   ]
  },
  {
   "cell_type": "code",
   "execution_count": 243,
   "metadata": {
    "collapsed": false
   },
   "outputs": [
    {
     "data": {
      "text/plain": [
       "Ttest_indResult(statistic=-7.3478518823568848, pvalue=2.5054509848989236e-13)"
      ]
     },
     "execution_count": 243,
     "metadata": {},
     "output_type": "execute_result"
    }
   ],
   "source": [
    "# I'm testing to see if these have the same distribution... clearly not\n",
    "import scipy.stats as stats\n",
    "stats.ttest_ind(nyc_zm[nyc_zm.food>0].food, sf_zm[sf_zm.food>0].food)"
   ]
  },
  {
   "cell_type": "code",
   "execution_count": 244,
   "metadata": {
    "collapsed": false
   },
   "outputs": [
    {
     "data": {
      "text/plain": [
       "Ttest_indResult(statistic=-16.653879143861339, pvalue=1.2769978780525387e-59)"
      ]
     },
     "execution_count": 244,
     "metadata": {},
     "output_type": "execute_result"
    }
   ],
   "source": [
    "stats.ttest_ind(nyc_zm[nyc_zm.food>0].food, chicago[chicago.food>0].food)"
   ]
  },
  {
   "cell_type": "code",
   "execution_count": 247,
   "metadata": {
    "collapsed": true
   },
   "outputs": [],
   "source": [
    "import matplotlib.pyplot as plt"
   ]
  },
  {
   "cell_type": "code",
   "execution_count": 706,
   "metadata": {
    "collapsed": false
   },
   "outputs": [
    {
     "data": {
      "text/plain": [
       "[None, None, None, None, None, None, None, None, None, None]"
      ]
     },
     "execution_count": 706,
     "metadata": {},
     "output_type": "execute_result"
    },
    {
     "data": {
      "image/png": "[encoded data removed]",
      "text/plain": [
       "<matplotlib.figure.Figure at 0x135e6c70>"
      ]
     },
     "metadata": {},
     "output_type": "display_data"
    }
   ],
   "source": [
    "#make boxplot (referenced: http://matplotlib.org/examples/pylab_examples/boxplot_demo2.html)\n",
    "\n",
    "nycfood = nyc_zm[nyc_zm.food>0].food.as_matrix()\n",
    "sffood = sf_zm[sf_zm.food>0].food.as_matrix()\n",
    "chicagofood = chicago_zm[chicago_zm.food>0].food.as_matrix()\n",
    "dcfood = dc[dc.food>0].food.as_matrix()\n",
    "dcpropfood = dc_prop[dc_prop.food>0].food.as_matrix()\n",
    "\n",
    "\n",
    "fig, ax1 = plt.subplots(figsize=(10, 6))\n",
    "ax1.set_title('Zagat food ratings across cities')\n",
    "ax1.set_ylabel('Food Rating')\n",
    "bp = plt.boxplot([nycfood,sffood,chicagofood,dcfood, dcpropfood], patch_artist=True)\n",
    "xtickNames = plt.setp(ax1, xticklabels=['NYC','SF', 'Chicago','DC','DC Proper'])\n",
    "plt.setp(xtickNames, rotation=0, fontsize=10)\n",
    "plt.setp(bp['boxes'], color='royalblue')\n",
    "plt.setp(bp['whiskers'], color='black')\n",
    "plt.setp(bp['fliers'], color='orange', marker='+')"
   ]
  },
  {
   "cell_type": "code",
   "execution_count": 712,
   "metadata": {
    "collapsed": false
   },
   "outputs": [
    {
     "data": {
      "text/plain": [
       "<matplotlib.axes._subplots.AxesSubplot at 0x15eaab70>"
      ]
     },
     "execution_count": 712,
     "metadata": {},
     "output_type": "execute_result"
    },
    {
     "data": {
      "image/png": "[encoded data removed]",
      "text/plain": [
       "<matplotlib.figure.Figure at 0x15e43210>"
      ]
     },
     "metadata": {},
     "output_type": "display_data"
    }
   ],
   "source": [
    "nyc_zm[nyc_zm.food>0].food.hist(normed=True)"
   ]
  },
  {
   "cell_type": "code",
   "execution_count": 789,
   "metadata": {
    "collapsed": false
   },
   "outputs": [
    {
     "name": "stdout",
     "output_type": "stream",
     "text": [
      "Axes(0.125,0.125;0.775x0.775)\n",
      "Axes(0.125,0.125;0.775x0.775)\n",
      "Axes(0.125,0.125;0.775x0.775)\n",
      "Axes(0.125,0.125;0.775x0.775)\n"
     ]
    },
    {
     "data": {
      "image/png": "[encoded data removed]",
      "text/plain": [
       "<matplotlib.figure.Figure at 0x17131ff0>"
      ]
     },
     "metadata": {},
     "output_type": "display_data"
    }
   ],
   "source": [
    "li = [sf_zm, nyc_zm, chicago_zm, dc]\n",
    "for i in li:\n",
    "    print i[i.decor>0].decor.hist(normed=True)"
   ]
  },
  {
   "cell_type": "code",
   "execution_count": 790,
   "metadata": {
    "collapsed": false
   },
   "outputs": [
    {
     "name": "stdout",
     "output_type": "stream",
     "text": [
      "Axes(0.125,0.125;0.775x0.775)\n",
      "Axes(0.125,0.125;0.775x0.775)\n",
      "Axes(0.125,0.125;0.775x0.775)\n",
      "Axes(0.125,0.125;0.775x0.775)\n"
     ]
    },
    {
     "data": {
      "image/png": "[encoded data removed]",
      "text/plain": [
       "<matplotlib.figure.Figure at 0x18218510>"
      ]
     },
     "metadata": {},
     "output_type": "display_data"
    }
   ],
   "source": [
    "li = [sf_zm, nyc_zm, chicago_zm, dc]\n",
    "for i in li:\n",
    "    print i[i.service>0].service.hist(normed=True)"
   ]
  },
  {
   "cell_type": "code",
   "execution_count": 791,
   "metadata": {
    "collapsed": false
   },
   "outputs": [
    {
     "data": {
      "image/png": "[encoded data removed]",
      "text/plain": [
       "<matplotlib.figure.Figure at 0x18252e90>"
      ]
     },
     "metadata": {},
     "output_type": "display_data"
    }
   ],
   "source": [
    "fig = plt.figure()\n",
    "ax = fig.add_subplot(111)\n",
    "chicago_zm[chicago_zm.food>0].food.hist(color='royalblue')\n",
    "ax.set_title('Chicago (N=%d)' %chicago_zm[chicago_zm.food>0].food.count(), fontsize=14)\n",
    "ax.set_ylabel('Number of Restaurants', fontsize=14)\n",
    "ax.set_xlabel('Zagat Food Score', fontsize=14)\n",
    "ax.grid(False)\n",
    "ax.set_xlim([3.4, 5])\n",
    "plt.savefig('../chicago_food.png')"
   ]
  },
  {
   "cell_type": "code",
   "execution_count": 792,
   "metadata": {
    "collapsed": false
   },
   "outputs": [
    {
     "data": {
      "image/png": "[encoded data removed]",
      "text/plain": [
       "<matplotlib.figure.Figure at 0x178edf70>"
      ]
     },
     "metadata": {},
     "output_type": "display_data"
    }
   ],
   "source": [
    "fig = plt.figure()\n",
    "ax = fig.add_subplot(111)\n",
    "dc[dc.food>0].food.hist(color='royalblue')\n",
    "ax.set_title('DC (N=%d)' %dc_prop[dc_prop.food>0].food.count(), fontsize=14)\n",
    "ax.set_ylabel('Number of Restaurants', fontsize=14)\n",
    "ax.set_xlabel('Zagat Food Score', fontsize=14)\n",
    "ax.grid(False)\n",
    "ax.set_xlim([3.4, 5])\n",
    "plt.savefig('../dc_food.png')"
   ]
  },
  {
   "cell_type": "code",
   "execution_count": 793,
   "metadata": {
    "collapsed": false
   },
   "outputs": [
    {
     "data": {
      "image/png": "[encoded data removed]",
      "text/plain": [
       "<matplotlib.figure.Figure at 0x1776a9d0>"
      ]
     },
     "metadata": {},
     "output_type": "display_data"
    }
   ],
   "source": [
    "fig = plt.figure()\n",
    "ax = fig.add_subplot(111)\n",
    "nyc_zm[nyc_zm.food>0].food.hist(color='royalblue')\n",
    "ax.set_title('NYC (N=%d)' %nyc_zm[nyc_zm.food>0].food.count(), fontsize=14)\n",
    "ax.set_ylabel('Number of Restaurants', fontsize=14)\n",
    "ax.set_xlabel('Zagat Food Score', fontsize=14)\n",
    "ax.grid(False)\n",
    "ax.set_xlim([3.4, 5])\n",
    "plt.savefig('../nyc_food.png')"
   ]
  },
  {
   "cell_type": "code",
   "execution_count": 794,
   "metadata": {
    "collapsed": false
   },
   "outputs": [
    {
     "data": {
      "image/png": "[encoded data removed]",
      "text/plain": [
       "<matplotlib.figure.Figure at 0x1753ee90>"
      ]
     },
     "metadata": {},
     "output_type": "display_data"
    }
   ],
   "source": [
    "fig = plt.figure()\n",
    "ax = fig.add_subplot(111)\n",
    "sf_zm[sf_zm.food>0].food.hist(color='royalblue')\n",
    "ax.set_title('SF (N=%d)' %sf_zm[sf_zm.food>0].food.count(), fontsize=14)\n",
    "ax.set_ylabel('Number of Restaurants', fontsize=14)\n",
    "ax.set_xlabel('Zagat Food Score', fontsize=14)\n",
    "ax.grid(False)\n",
    "ax.set_xlim([3.4, 5])\n",
    "plt.savefig('../sf_food.png')"
   ]
  },
  {
   "cell_type": "code",
   "execution_count": 755,
   "metadata": {
    "collapsed": false
   },
   "outputs": [
    {
     "name": "stdout",
     "output_type": "stream",
     "text": [
      "2079\n",
      "2079\n",
      "1328\n",
      "1328\n",
      "882\n",
      "882\n",
      "670\n",
      "670\n",
      "363\n",
      "363\n"
     ]
    }
   ],
   "source": [
    "#confirming everything I have zagat ratings for I also have cost for\n",
    "li = [nyc_zm, sf_zm, chicago_zm, dc, dc_prop]\n",
    "for i in li:\n",
    "    print i[(i['food']>0)&(i['cost']>0)].cost.count()\n",
    "    print i[(i['food']>0)].cost.count()"
   ]
  },
  {
   "cell_type": "code",
   "execution_count": 886,
   "metadata": {
    "collapsed": false
   },
   "outputs": [
    {
     "data": {
      "image/png": "[encoded data removed]",
      "text/plain": [
       "<matplotlib.figure.Figure at 0x1bfb7ab0>"
      ]
     },
     "metadata": {},
     "output_type": "display_data"
    }
   ],
   "source": [
    "#Let's try costs...I'm filtering for zagat ratings\n",
    "\n",
    "nycfood = nyc_zm[nyc_zm.food>0].cost.as_matrix()\n",
    "sffood = sf_zm[sf_zm.food>0].cost.as_matrix()\n",
    "chicagofood = chicago_zm[chicago_zm.food>0].cost.as_matrix()\n",
    "dcfood = dc[dc.food>0].cost.as_matrix()\n",
    "dcpropfood = dc_prop[dc_prop.food>0].cost.as_matrix()\n",
    "\n",
    "\n",
    "fig, ax1 = plt.subplots(figsize=(10, 6))\n",
    "ax1.set_title('Cost by City', fontsize=14)\n",
    "ax1.set_ylabel('Cost in Dollars', fontsize=14)\n",
    "bp = plt.boxplot([nycfood,sffood,chicagofood,dcfood, dcpropfood], patch_artist=True)\n",
    "xtickNames = plt.setp(ax1, xticklabels=['NYC\\nN=%d' %nyc_zm[nyc_zm.food>0].cost.count(),\\\n",
    "                                        'SF\\nN=%d' %sf_zm[sf_zm.food>0].cost.count(), \\\n",
    "                                        'Chicago\\nN=%d' %chicago_zm[chicago_zm.food>0].cost.count(), \\\n",
    "                                        'DMV\\nN=%d'%dc[dc.food>0].cost.count() ,\\\n",
    "                                        'DC Proper\\nN=%d' % dc_prop[dc_prop.food>0].cost.count()]) \n",
    "plt.setp(xtickNames, rotation=0, fontsize=14)\n",
    "plt.setp(bp['boxes'], color='royalblue')\n",
    "plt.setp(bp['whiskers'], color='black')\n",
    "plt.setp(bp['fliers'], color='orange', marker='+')\n",
    "\n",
    "plt.savefig('../cost_outliers.png')"
   ]
  },
  {
   "cell_type": "code",
   "execution_count": 887,
   "metadata": {
    "collapsed": false
   },
   "outputs": [
    {
     "data": {
      "image/png": "[encoded data removed]",
      "text/plain": [
       "<matplotlib.figure.Figure at 0x1739cbd0>"
      ]
     },
     "metadata": {},
     "output_type": "display_data"
    }
   ],
   "source": [
    "#Adjusting y-axis\n",
    "\n",
    "nycfood = nyc_zm[nyc_zm.food>0].cost.as_matrix()\n",
    "sffood = sf_zm[sf_zm.food>0].cost.as_matrix()\n",
    "chicagofood = chicago_zm[chicago_zm.food>0].cost.as_matrix()\n",
    "dcfood = dc[dc.food>0].cost.as_matrix()\n",
    "dcpropfood = dc_prop[dc_prop.food>0].cost.as_matrix()\n",
    "\n",
    "\n",
    "fig, ax1 = plt.subplots(figsize=(10, 6))\n",
    "ax1.set_title('Cost by City', fontsize=14)\n",
    "ax1.set_ylabel('Cost in Dollars', fontsize=14)\n",
    "ax1.set_ylim([0, 150])\n",
    "bp = plt.boxplot([nycfood,sffood,chicagofood,dcfood, dcpropfood], patch_artist=True)\n",
    "xtickNames = plt.setp(ax1, xticklabels=['NYC\\nN=%d' %nyc_zm[nyc_zm.food>0].cost.count(),\\\n",
    "                                        'SF\\nN=%d' %sf_zm[sf_zm.food>0].cost.count(), \\\n",
    "                                        'Chicago\\nN=%d' %chicago_zm[chicago_zm.food>0].cost.count(), \\\n",
    "                                        'DMV\\nN=%d'%dc[dc.food>0].cost.count() ,\\\n",
    "                                        'DC Proper\\nN=%d' % dc_prop[dc_prop.food>0].cost.count()]) \n",
    "plt.setp(xtickNames, rotation=0, fontsize=14)\n",
    "plt.setp(bp['boxes'], color='royalblue')\n",
    "plt.setp(bp['whiskers'], color='black')\n",
    "plt.setp(bp['fliers'], color='orange', marker='+')\n",
    "plt.savefig('../cost_nooutliers.png')"
   ]
  },
  {
   "cell_type": "code",
   "execution_count": 762,
   "metadata": {
    "collapsed": false
   },
   "outputs": [
    {
     "name": "stdout",
     "output_type": "stream",
     "text": [
      "66\n",
      "75\n",
      "42\n",
      "49\n",
      "20\n",
      "21\n"
     ]
    }
   ],
   "source": [
    "#Checking how many MIhcelin restaurants aren't Zagat rated - but remember, some of these are closed\n",
    "li = [nyc_zm, sf_zm, chicago_zm]\n",
    "for i in li:\n",
    "    print i[(i['food']>0)&(i['stars']>0)].stars.count()\n",
    "    print i[(i['stars']>0)].stars.count()"
   ]
  },
  {
   "cell_type": "code",
   "execution_count": 751,
   "metadata": {
    "collapsed": false
   },
   "outputs": [
    {
     "data": {
      "text/plain": [
       "[None, None, None, None, None, None, None, None, None, None]"
      ]
     },
     "execution_count": 751,
     "metadata": {},
     "output_type": "execute_result"
    },
    {
     "data": {
      "image/png": "[encoded data removed]",
      "text/plain": [
       "<matplotlib.figure.Figure at 0x13c3d510>"
      ]
     },
     "metadata": {},
     "output_type": "display_data"
    }
   ],
   "source": [
    "#Food over 4.2 - ha, these look about the same\n",
    "\n",
    "nycfood = nyc_zm[nyc_zm.food>4.2].cost.as_matrix()\n",
    "sffood = sf_zm[sf_zm.food>4.2].cost.as_matrix()\n",
    "chicagofood = chicago_zm[chicago_zm.food>4.2].cost.as_matrix()\n",
    "dcfood = dc[dc.food>4.2].cost.as_matrix()\n",
    "dcpropfood = dc_prop[dc_prop.food>4.2].cost.as_matrix()\n",
    "\n",
    "\n",
    "fig, ax1 = plt.subplots(figsize=(10, 6))\n",
    "ax1.set_title('', fontsize=14)\n",
    "ax1.set_ylabel('Cost in Dollars', fontsize=14)\n",
    "ax1.set_ylim([0, 150])\n",
    "bp = plt.boxplot([nycfood,sffood,chicagofood,dcfood, dcpropfood], patch_artist=True)\n",
    "xtickNames = plt.setp(ax1, xticklabels=['NYC','SF', 'Chicago','DMV','DC Proper'])\n",
    "plt.setp(xtickNames, rotation=0, fontsize=14)\n",
    "plt.setp(bp['boxes'], color='royalblue')\n",
    "plt.setp(bp['whiskers'], color='black')\n",
    "plt.setp(bp['fliers'], color='orange', marker='+')"
   ]
  },
  {
   "cell_type": "code",
   "execution_count": 473,
   "metadata": {
    "collapsed": false
   },
   "outputs": [
    {
     "data": {
      "text/plain": [
       "[None, None, None, None, None, None]"
      ]
     },
     "execution_count": 473,
     "metadata": {},
     "output_type": "execute_result"
    },
    {
     "data": {
      "image/png": "[encoded data removed]",
      "text/plain": [
       "<matplotlib.figure.Figure at 0x135ef450>"
      ]
     },
     "metadata": {},
     "output_type": "display_data"
    }
   ],
   "source": [
    "# Maybe what matters is the distribution among restaurants with stars...\n",
    "\n",
    "nycfood = nyc_zm[(nyc_zm.food>0) & (nyc_zm.stars>0)].food.as_matrix()\n",
    "sffood = sf_zm[(sf_zm.food>0) & (sf_zm.stars>0)].food.as_matrix()\n",
    "chicagofood = chicago_zm[(chicago_zm.food>0) & (chicago_zm.stars>0)].food.as_matrix()\n",
    "\n",
    "\n",
    "fig, ax1 = plt.subplots(figsize=(10, 6))\n",
    "ax1.set_title('Zagat food ratings for Michelin Stars')\n",
    "ax1.set_ylabel('Food Rating')\n",
    "bp = plt.boxplot([nycfood,sffood,chicagofood], patch_artist=True)\n",
    "xtickNames = plt.setp(ax1, xticklabels=['NYC','SF', 'Chicago'])\n",
    "plt.setp(xtickNames, rotation=0, fontsize=10)\n",
    "plt.setp(bp['boxes'], color='royalblue')\n",
    "plt.setp(bp['whiskers'], color='black')\n",
    "plt.setp(bp['fliers'], color='orange', marker='+')"
   ]
  }
 ],
 "metadata": {
  "anaconda-cloud": {},
  "kernelspec": {
   "display_name": "Python [Root]",
   "language": "python",
   "name": "Python [Root]"
  },
  "language_info": {
   "codemirror_mode": {
    "name": "ipython",
    "version": 2
   },
   "file_extension": ".py",
   "mimetype": "text/x-python",
   "name": "python",
   "nbconvert_exporter": "python",
   "pygments_lexer": "ipython2",
   "version": "2.7.12"
  }
 },
 "nbformat": 4,
 "nbformat_minor": 0
}
