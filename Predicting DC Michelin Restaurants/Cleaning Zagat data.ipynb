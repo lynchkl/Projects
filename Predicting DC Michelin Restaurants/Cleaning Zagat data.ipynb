{
 "cells": [
  {
   "cell_type": "code",
   "execution_count": 12,
   "metadata": {
    "collapsed": true
   },
   "outputs": [],
   "source": [
    "import pandas as pd\n",
    "import json"
   ]
  },
  {
   "cell_type": "code",
   "execution_count": 13,
   "metadata": {
    "collapsed": false
   },
   "outputs": [],
   "source": [
    "# I have multiple files for some cities because I scraped multiple times - occasionally\n",
    "# scraper will miss a few restaurants\n",
    "\n",
    "dc = pd.read_pickle('../dc_raw1.pkl') \n",
    "dc2 = pd.read_pickle('../dc_raw2.pkl') \n",
    "dc3 = pd.read_pickle('../dc_raw3.pkl') \n",
    "\n",
    "dc_prop = pd.read_pickle('../dc_prop_raw1.pkl') \n",
    "\n",
    "nyc = pd.read_pickle('../nyc_raw1.pkl') \n",
    "nyc2 = pd.read_pickle('../nyc_raw2.pkl')  \n",
    "\n",
    "chicago = pd.read_pickle('../chicago_raw1.pkl') \n",
    "\n",
    "sf = pd.read_pickle('../sf_raw1.pkl')\n",
    "sf2 = pd.read_pickle('../sf_raw2.pkl')"
   ]
  },
  {
   "cell_type": "code",
   "execution_count": 14,
   "metadata": {
    "collapsed": true
   },
   "outputs": [],
   "source": [
    "dc = dc.append(dc2).append(dc3)\n",
    "dc = dc.reset_index()\n",
    "del dc['index']"
   ]
  },
  {
   "cell_type": "code",
   "execution_count": 15,
   "metadata": {
    "collapsed": true
   },
   "outputs": [],
   "source": [
    "nyc = nyc.append(nyc2)\n",
    "nyc = nyc.reset_index()\n",
    "del nyc['index']"
   ]
  },
  {
   "cell_type": "code",
   "execution_count": 16,
   "metadata": {
    "collapsed": true
   },
   "outputs": [],
   "source": [
    "sf = sf.append(sf2)\n",
    "sf = sf.reset_index()\n",
    "del sf['index']"
   ]
  },
  {
   "cell_type": "code",
   "execution_count": 17,
   "metadata": {
    "collapsed": true
   },
   "outputs": [],
   "source": [
    "#I structured this function with an if statement in order to add variables I wanted to drop as I went through exploratory analysis\n",
    "def zagat_drop_cols(city):\n",
    "    for var in ['city', 'currency_symbol','closed', 'date_opened', 'obj_type', 'redirect_url', 'feature_id', 'partners', 'hours', 'id', 'photo', 'photo_map', 'renamed', 'score', 'scores', 'slug', 'timezone', 'vertical', 'vertical_id', 'open_now']:\n",
    "        if var in city.columns:\n",
    "            city.drop([var], axis=1, inplace=True)"
   ]
  },
  {
   "cell_type": "code",
   "execution_count": 18,
   "metadata": {
    "collapsed": true
   },
   "outputs": [],
   "source": [
    "datasets = [chicago, sf,nyc, dc, dc_prop]"
   ]
  },
  {
   "cell_type": "code",
   "execution_count": 19,
   "metadata": {
    "collapsed": false
   },
   "outputs": [
    {
     "name": "stdout",
     "output_type": "stream",
     "text": [
      "(1376, 13)\n",
      "(4046, 13)\n",
      "(5540, 13)\n",
      "(3589, 13)\n",
      "(690, 13)\n"
     ]
    }
   ],
   "source": [
    "for ds in datasets:\n",
    "    zagat_drop_cols(ds)\n",
    "    print ds.shape"
   ]
  },
  {
   "cell_type": "code",
   "execution_count": 20,
   "metadata": {
    "collapsed": true
   },
   "outputs": [],
   "source": [
    "for ds in datasets:\n",
    "    ds.drop_duplicates(inplace=True)"
   ]
  },
  {
   "cell_type": "code",
   "execution_count": 21,
   "metadata": {
    "collapsed": false
   },
   "outputs": [
    {
     "name": "stdout",
     "output_type": "stream",
     "text": [
      "(1376, 13)\n",
      "(2023, 13)\n",
      "(2767, 13)\n",
      "(1199, 13)\n",
      "(690, 13)\n"
     ]
    }
   ],
   "source": [
    "for ds in datasets:\n",
    "    print ds.shape"
   ]
  },
  {
   "cell_type": "code",
   "execution_count": 22,
   "metadata": {
    "collapsed": true
   },
   "outputs": [],
   "source": [
    "#saving these files\n",
    "dc.to_pickle('../dc.pkl') \n",
    "nyc.to_pickle('../nyc.pkl') \n",
    "chicago.to_pickle('../chicago.pkl') \n",
    "sf.to_pickle('../sf.pkl') \n",
    "dc_prop.to_pickle('../dc_prop.pkl') "
   ]
  }
 ],
 "metadata": {
  "anaconda-cloud": {},
  "kernelspec": {
   "display_name": "Python [Root]",
   "language": "python",
   "name": "Python [Root]"
  },
  "language_info": {
   "codemirror_mode": {
    "name": "ipython",
    "version": 2
   },
   "file_extension": ".py",
   "mimetype": "text/x-python",
   "name": "python",
   "nbconvert_exporter": "python",
   "pygments_lexer": "ipython2",
   "version": "2.7.12"
  }
 },
 "nbformat": 4,
 "nbformat_minor": 0
}
